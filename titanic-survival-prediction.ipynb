{
 "cells": [
  {
   "cell_type": "markdown",
   "id": "a7536f54",
   "metadata": {
    "papermill": {
     "duration": 0.022058,
     "end_time": "2022-07-25T17:24:37.248067",
     "exception": false,
     "start_time": "2022-07-25T17:24:37.226009",
     "status": "completed"
    },
    "tags": []
   },
   "source": [
    "# Titanic: Survival Prediction Using Machine Learning\n",
    "In this notebook we are going to be doing the **Titanic - Machine Learning from Disaster** competition by Kaggle.\n",
    "The objective of the notebook is:\n",
    "* Predict if the passengers **survived** or **not**.\n",
    "\n",
    "**IMPORTANT**: This dataset is not the only way of aproaching the competition, is how i thought as a trainee data scientist. I hope it will be helpful for all of you, all constructive comments are welcome. Thank you! \n",
    "\n",
    "**Lets start!**"
   ]
  },
  {
   "cell_type": "markdown",
   "id": "3814583c",
   "metadata": {
    "papermill": {
     "duration": 0.021625,
     "end_time": "2022-07-25T17:24:37.290050",
     "exception": false,
     "start_time": "2022-07-25T17:24:37.268425",
     "status": "completed"
    },
    "tags": []
   },
   "source": [
    "# Importing Libraries"
   ]
  },
  {
   "cell_type": "code",
   "execution_count": 1,
   "id": "aa1b5451",
   "metadata": {
    "execution": {
     "iopub.execute_input": "2022-07-25T17:24:37.332328Z",
     "iopub.status.busy": "2022-07-25T17:24:37.331900Z",
     "iopub.status.idle": "2022-07-25T17:24:38.978460Z",
     "shell.execute_reply": "2022-07-25T17:24:38.977226Z"
    },
    "papermill": {
     "duration": 1.671546,
     "end_time": "2022-07-25T17:24:38.981747",
     "exception": false,
     "start_time": "2022-07-25T17:24:37.310201",
     "status": "completed"
    },
    "tags": []
   },
   "outputs": [],
   "source": [
    "import pandas as pd\n",
    "import numpy as np\n",
    "import matplotlib.pyplot as plt\n",
    "import seaborn as sns\n",
    "import xgboost as xgb\n",
    "\n",
    "from sklearn import preprocessing\n",
    "from sklearn.model_selection import train_test_split\n",
    "from sklearn.model_selection import RandomizedSearchCV\n",
    "from sklearn.metrics import accuracy_score\n",
    "from sklearn.model_selection import GridSearchCV\n",
    "from sklearn.model_selection import RandomizedSearchCV\n",
    "from sklearn.metrics import f1_score\n",
    "from sklearn.metrics import recall_score"
   ]
  },
  {
   "cell_type": "markdown",
   "id": "7ae612e0",
   "metadata": {
    "papermill": {
     "duration": 0.019976,
     "end_time": "2022-07-25T17:24:39.022315",
     "exception": false,
     "start_time": "2022-07-25T17:24:39.002339",
     "status": "completed"
    },
    "tags": []
   },
   "source": [
    "# Loading the Data"
   ]
  },
  {
   "cell_type": "code",
   "execution_count": 2,
   "id": "87524acc",
   "metadata": {
    "execution": {
     "iopub.execute_input": "2022-07-25T17:24:39.065168Z",
     "iopub.status.busy": "2022-07-25T17:24:39.064797Z",
     "iopub.status.idle": "2022-07-25T17:24:39.120400Z",
     "shell.execute_reply": "2022-07-25T17:24:39.119046Z"
    },
    "papermill": {
     "duration": 0.080098,
     "end_time": "2022-07-25T17:24:39.123074",
     "exception": false,
     "start_time": "2022-07-25T17:24:39.042976",
     "status": "completed"
    },
    "tags": []
   },
   "outputs": [
    {
     "data": {
      "text/html": [
       "<div>\n",
       "<style scoped>\n",
       "    .dataframe tbody tr th:only-of-type {\n",
       "        vertical-align: middle;\n",
       "    }\n",
       "\n",
       "    .dataframe tbody tr th {\n",
       "        vertical-align: top;\n",
       "    }\n",
       "\n",
       "    .dataframe thead th {\n",
       "        text-align: right;\n",
       "    }\n",
       "</style>\n",
       "<table border=\"1\" class=\"dataframe\">\n",
       "  <thead>\n",
       "    <tr style=\"text-align: right;\">\n",
       "      <th></th>\n",
       "      <th>PassengerId</th>\n",
       "      <th>Survived</th>\n",
       "      <th>Pclass</th>\n",
       "      <th>Name</th>\n",
       "      <th>Sex</th>\n",
       "      <th>Age</th>\n",
       "      <th>SibSp</th>\n",
       "      <th>Parch</th>\n",
       "      <th>Ticket</th>\n",
       "      <th>Fare</th>\n",
       "      <th>Cabin</th>\n",
       "      <th>Embarked</th>\n",
       "    </tr>\n",
       "  </thead>\n",
       "  <tbody>\n",
       "    <tr>\n",
       "      <th>0</th>\n",
       "      <td>1</td>\n",
       "      <td>0</td>\n",
       "      <td>3</td>\n",
       "      <td>Braund, Mr. Owen Harris</td>\n",
       "      <td>male</td>\n",
       "      <td>22.0</td>\n",
       "      <td>1</td>\n",
       "      <td>0</td>\n",
       "      <td>A/5 21171</td>\n",
       "      <td>7.2500</td>\n",
       "      <td>NaN</td>\n",
       "      <td>S</td>\n",
       "    </tr>\n",
       "    <tr>\n",
       "      <th>1</th>\n",
       "      <td>2</td>\n",
       "      <td>1</td>\n",
       "      <td>1</td>\n",
       "      <td>Cumings, Mrs. John Bradley (Florence Briggs Th...</td>\n",
       "      <td>female</td>\n",
       "      <td>38.0</td>\n",
       "      <td>1</td>\n",
       "      <td>0</td>\n",
       "      <td>PC 17599</td>\n",
       "      <td>71.2833</td>\n",
       "      <td>C85</td>\n",
       "      <td>C</td>\n",
       "    </tr>\n",
       "    <tr>\n",
       "      <th>2</th>\n",
       "      <td>3</td>\n",
       "      <td>1</td>\n",
       "      <td>3</td>\n",
       "      <td>Heikkinen, Miss. Laina</td>\n",
       "      <td>female</td>\n",
       "      <td>26.0</td>\n",
       "      <td>0</td>\n",
       "      <td>0</td>\n",
       "      <td>STON/O2. 3101282</td>\n",
       "      <td>7.9250</td>\n",
       "      <td>NaN</td>\n",
       "      <td>S</td>\n",
       "    </tr>\n",
       "    <tr>\n",
       "      <th>3</th>\n",
       "      <td>4</td>\n",
       "      <td>1</td>\n",
       "      <td>1</td>\n",
       "      <td>Futrelle, Mrs. Jacques Heath (Lily May Peel)</td>\n",
       "      <td>female</td>\n",
       "      <td>35.0</td>\n",
       "      <td>1</td>\n",
       "      <td>0</td>\n",
       "      <td>113803</td>\n",
       "      <td>53.1000</td>\n",
       "      <td>C123</td>\n",
       "      <td>S</td>\n",
       "    </tr>\n",
       "    <tr>\n",
       "      <th>4</th>\n",
       "      <td>5</td>\n",
       "      <td>0</td>\n",
       "      <td>3</td>\n",
       "      <td>Allen, Mr. William Henry</td>\n",
       "      <td>male</td>\n",
       "      <td>35.0</td>\n",
       "      <td>0</td>\n",
       "      <td>0</td>\n",
       "      <td>373450</td>\n",
       "      <td>8.0500</td>\n",
       "      <td>NaN</td>\n",
       "      <td>S</td>\n",
       "    </tr>\n",
       "    <tr>\n",
       "      <th>...</th>\n",
       "      <td>...</td>\n",
       "      <td>...</td>\n",
       "      <td>...</td>\n",
       "      <td>...</td>\n",
       "      <td>...</td>\n",
       "      <td>...</td>\n",
       "      <td>...</td>\n",
       "      <td>...</td>\n",
       "      <td>...</td>\n",
       "      <td>...</td>\n",
       "      <td>...</td>\n",
       "      <td>...</td>\n",
       "    </tr>\n",
       "    <tr>\n",
       "      <th>886</th>\n",
       "      <td>887</td>\n",
       "      <td>0</td>\n",
       "      <td>2</td>\n",
       "      <td>Montvila, Rev. Juozas</td>\n",
       "      <td>male</td>\n",
       "      <td>27.0</td>\n",
       "      <td>0</td>\n",
       "      <td>0</td>\n",
       "      <td>211536</td>\n",
       "      <td>13.0000</td>\n",
       "      <td>NaN</td>\n",
       "      <td>S</td>\n",
       "    </tr>\n",
       "    <tr>\n",
       "      <th>887</th>\n",
       "      <td>888</td>\n",
       "      <td>1</td>\n",
       "      <td>1</td>\n",
       "      <td>Graham, Miss. Margaret Edith</td>\n",
       "      <td>female</td>\n",
       "      <td>19.0</td>\n",
       "      <td>0</td>\n",
       "      <td>0</td>\n",
       "      <td>112053</td>\n",
       "      <td>30.0000</td>\n",
       "      <td>B42</td>\n",
       "      <td>S</td>\n",
       "    </tr>\n",
       "    <tr>\n",
       "      <th>888</th>\n",
       "      <td>889</td>\n",
       "      <td>0</td>\n",
       "      <td>3</td>\n",
       "      <td>Johnston, Miss. Catherine Helen \"Carrie\"</td>\n",
       "      <td>female</td>\n",
       "      <td>NaN</td>\n",
       "      <td>1</td>\n",
       "      <td>2</td>\n",
       "      <td>W./C. 6607</td>\n",
       "      <td>23.4500</td>\n",
       "      <td>NaN</td>\n",
       "      <td>S</td>\n",
       "    </tr>\n",
       "    <tr>\n",
       "      <th>889</th>\n",
       "      <td>890</td>\n",
       "      <td>1</td>\n",
       "      <td>1</td>\n",
       "      <td>Behr, Mr. Karl Howell</td>\n",
       "      <td>male</td>\n",
       "      <td>26.0</td>\n",
       "      <td>0</td>\n",
       "      <td>0</td>\n",
       "      <td>111369</td>\n",
       "      <td>30.0000</td>\n",
       "      <td>C148</td>\n",
       "      <td>C</td>\n",
       "    </tr>\n",
       "    <tr>\n",
       "      <th>890</th>\n",
       "      <td>891</td>\n",
       "      <td>0</td>\n",
       "      <td>3</td>\n",
       "      <td>Dooley, Mr. Patrick</td>\n",
       "      <td>male</td>\n",
       "      <td>32.0</td>\n",
       "      <td>0</td>\n",
       "      <td>0</td>\n",
       "      <td>370376</td>\n",
       "      <td>7.7500</td>\n",
       "      <td>NaN</td>\n",
       "      <td>Q</td>\n",
       "    </tr>\n",
       "  </tbody>\n",
       "</table>\n",
       "<p>891 rows × 12 columns</p>\n",
       "</div>"
      ],
      "text/plain": [
       "     PassengerId  Survived  Pclass  \\\n",
       "0              1         0       3   \n",
       "1              2         1       1   \n",
       "2              3         1       3   \n",
       "3              4         1       1   \n",
       "4              5         0       3   \n",
       "..           ...       ...     ...   \n",
       "886          887         0       2   \n",
       "887          888         1       1   \n",
       "888          889         0       3   \n",
       "889          890         1       1   \n",
       "890          891         0       3   \n",
       "\n",
       "                                                  Name     Sex   Age  SibSp  \\\n",
       "0                              Braund, Mr. Owen Harris    male  22.0      1   \n",
       "1    Cumings, Mrs. John Bradley (Florence Briggs Th...  female  38.0      1   \n",
       "2                               Heikkinen, Miss. Laina  female  26.0      0   \n",
       "3         Futrelle, Mrs. Jacques Heath (Lily May Peel)  female  35.0      1   \n",
       "4                             Allen, Mr. William Henry    male  35.0      0   \n",
       "..                                                 ...     ...   ...    ...   \n",
       "886                              Montvila, Rev. Juozas    male  27.0      0   \n",
       "887                       Graham, Miss. Margaret Edith  female  19.0      0   \n",
       "888           Johnston, Miss. Catherine Helen \"Carrie\"  female   NaN      1   \n",
       "889                              Behr, Mr. Karl Howell    male  26.0      0   \n",
       "890                                Dooley, Mr. Patrick    male  32.0      0   \n",
       "\n",
       "     Parch            Ticket     Fare Cabin Embarked  \n",
       "0        0         A/5 21171   7.2500   NaN        S  \n",
       "1        0          PC 17599  71.2833   C85        C  \n",
       "2        0  STON/O2. 3101282   7.9250   NaN        S  \n",
       "3        0            113803  53.1000  C123        S  \n",
       "4        0            373450   8.0500   NaN        S  \n",
       "..     ...               ...      ...   ...      ...  \n",
       "886      0            211536  13.0000   NaN        S  \n",
       "887      0            112053  30.0000   B42        S  \n",
       "888      2        W./C. 6607  23.4500   NaN        S  \n",
       "889      0            111369  30.0000  C148        C  \n",
       "890      0            370376   7.7500   NaN        Q  \n",
       "\n",
       "[891 rows x 12 columns]"
      ]
     },
     "execution_count": 2,
     "metadata": {},
     "output_type": "execute_result"
    }
   ],
   "source": [
    "train_data = pd.read_csv('../input/c/titanic/train.csv')\n",
    "train_data"
   ]
  },
  {
   "cell_type": "code",
   "execution_count": 3,
   "id": "f8bd4c83",
   "metadata": {
    "execution": {
     "iopub.execute_input": "2022-07-25T17:24:39.168246Z",
     "iopub.status.busy": "2022-07-25T17:24:39.167159Z",
     "iopub.status.idle": "2022-07-25T17:24:39.200610Z",
     "shell.execute_reply": "2022-07-25T17:24:39.199042Z"
    },
    "papermill": {
     "duration": 0.059443,
     "end_time": "2022-07-25T17:24:39.203448",
     "exception": false,
     "start_time": "2022-07-25T17:24:39.144005",
     "status": "completed"
    },
    "tags": []
   },
   "outputs": [
    {
     "data": {
      "text/html": [
       "<div>\n",
       "<style scoped>\n",
       "    .dataframe tbody tr th:only-of-type {\n",
       "        vertical-align: middle;\n",
       "    }\n",
       "\n",
       "    .dataframe tbody tr th {\n",
       "        vertical-align: top;\n",
       "    }\n",
       "\n",
       "    .dataframe thead th {\n",
       "        text-align: right;\n",
       "    }\n",
       "</style>\n",
       "<table border=\"1\" class=\"dataframe\">\n",
       "  <thead>\n",
       "    <tr style=\"text-align: right;\">\n",
       "      <th></th>\n",
       "      <th>PassengerId</th>\n",
       "      <th>Pclass</th>\n",
       "      <th>Name</th>\n",
       "      <th>Sex</th>\n",
       "      <th>Age</th>\n",
       "      <th>SibSp</th>\n",
       "      <th>Parch</th>\n",
       "      <th>Ticket</th>\n",
       "      <th>Fare</th>\n",
       "      <th>Cabin</th>\n",
       "      <th>Embarked</th>\n",
       "    </tr>\n",
       "  </thead>\n",
       "  <tbody>\n",
       "    <tr>\n",
       "      <th>0</th>\n",
       "      <td>892</td>\n",
       "      <td>3</td>\n",
       "      <td>Kelly, Mr. James</td>\n",
       "      <td>male</td>\n",
       "      <td>34.5</td>\n",
       "      <td>0</td>\n",
       "      <td>0</td>\n",
       "      <td>330911</td>\n",
       "      <td>7.8292</td>\n",
       "      <td>NaN</td>\n",
       "      <td>Q</td>\n",
       "    </tr>\n",
       "    <tr>\n",
       "      <th>1</th>\n",
       "      <td>893</td>\n",
       "      <td>3</td>\n",
       "      <td>Wilkes, Mrs. James (Ellen Needs)</td>\n",
       "      <td>female</td>\n",
       "      <td>47.0</td>\n",
       "      <td>1</td>\n",
       "      <td>0</td>\n",
       "      <td>363272</td>\n",
       "      <td>7.0000</td>\n",
       "      <td>NaN</td>\n",
       "      <td>S</td>\n",
       "    </tr>\n",
       "    <tr>\n",
       "      <th>2</th>\n",
       "      <td>894</td>\n",
       "      <td>2</td>\n",
       "      <td>Myles, Mr. Thomas Francis</td>\n",
       "      <td>male</td>\n",
       "      <td>62.0</td>\n",
       "      <td>0</td>\n",
       "      <td>0</td>\n",
       "      <td>240276</td>\n",
       "      <td>9.6875</td>\n",
       "      <td>NaN</td>\n",
       "      <td>Q</td>\n",
       "    </tr>\n",
       "    <tr>\n",
       "      <th>3</th>\n",
       "      <td>895</td>\n",
       "      <td>3</td>\n",
       "      <td>Wirz, Mr. Albert</td>\n",
       "      <td>male</td>\n",
       "      <td>27.0</td>\n",
       "      <td>0</td>\n",
       "      <td>0</td>\n",
       "      <td>315154</td>\n",
       "      <td>8.6625</td>\n",
       "      <td>NaN</td>\n",
       "      <td>S</td>\n",
       "    </tr>\n",
       "    <tr>\n",
       "      <th>4</th>\n",
       "      <td>896</td>\n",
       "      <td>3</td>\n",
       "      <td>Hirvonen, Mrs. Alexander (Helga E Lindqvist)</td>\n",
       "      <td>female</td>\n",
       "      <td>22.0</td>\n",
       "      <td>1</td>\n",
       "      <td>1</td>\n",
       "      <td>3101298</td>\n",
       "      <td>12.2875</td>\n",
       "      <td>NaN</td>\n",
       "      <td>S</td>\n",
       "    </tr>\n",
       "    <tr>\n",
       "      <th>...</th>\n",
       "      <td>...</td>\n",
       "      <td>...</td>\n",
       "      <td>...</td>\n",
       "      <td>...</td>\n",
       "      <td>...</td>\n",
       "      <td>...</td>\n",
       "      <td>...</td>\n",
       "      <td>...</td>\n",
       "      <td>...</td>\n",
       "      <td>...</td>\n",
       "      <td>...</td>\n",
       "    </tr>\n",
       "    <tr>\n",
       "      <th>413</th>\n",
       "      <td>1305</td>\n",
       "      <td>3</td>\n",
       "      <td>Spector, Mr. Woolf</td>\n",
       "      <td>male</td>\n",
       "      <td>NaN</td>\n",
       "      <td>0</td>\n",
       "      <td>0</td>\n",
       "      <td>A.5. 3236</td>\n",
       "      <td>8.0500</td>\n",
       "      <td>NaN</td>\n",
       "      <td>S</td>\n",
       "    </tr>\n",
       "    <tr>\n",
       "      <th>414</th>\n",
       "      <td>1306</td>\n",
       "      <td>1</td>\n",
       "      <td>Oliva y Ocana, Dona. Fermina</td>\n",
       "      <td>female</td>\n",
       "      <td>39.0</td>\n",
       "      <td>0</td>\n",
       "      <td>0</td>\n",
       "      <td>PC 17758</td>\n",
       "      <td>108.9000</td>\n",
       "      <td>C105</td>\n",
       "      <td>C</td>\n",
       "    </tr>\n",
       "    <tr>\n",
       "      <th>415</th>\n",
       "      <td>1307</td>\n",
       "      <td>3</td>\n",
       "      <td>Saether, Mr. Simon Sivertsen</td>\n",
       "      <td>male</td>\n",
       "      <td>38.5</td>\n",
       "      <td>0</td>\n",
       "      <td>0</td>\n",
       "      <td>SOTON/O.Q. 3101262</td>\n",
       "      <td>7.2500</td>\n",
       "      <td>NaN</td>\n",
       "      <td>S</td>\n",
       "    </tr>\n",
       "    <tr>\n",
       "      <th>416</th>\n",
       "      <td>1308</td>\n",
       "      <td>3</td>\n",
       "      <td>Ware, Mr. Frederick</td>\n",
       "      <td>male</td>\n",
       "      <td>NaN</td>\n",
       "      <td>0</td>\n",
       "      <td>0</td>\n",
       "      <td>359309</td>\n",
       "      <td>8.0500</td>\n",
       "      <td>NaN</td>\n",
       "      <td>S</td>\n",
       "    </tr>\n",
       "    <tr>\n",
       "      <th>417</th>\n",
       "      <td>1309</td>\n",
       "      <td>3</td>\n",
       "      <td>Peter, Master. Michael J</td>\n",
       "      <td>male</td>\n",
       "      <td>NaN</td>\n",
       "      <td>1</td>\n",
       "      <td>1</td>\n",
       "      <td>2668</td>\n",
       "      <td>22.3583</td>\n",
       "      <td>NaN</td>\n",
       "      <td>C</td>\n",
       "    </tr>\n",
       "  </tbody>\n",
       "</table>\n",
       "<p>418 rows × 11 columns</p>\n",
       "</div>"
      ],
      "text/plain": [
       "     PassengerId  Pclass                                          Name  \\\n",
       "0            892       3                              Kelly, Mr. James   \n",
       "1            893       3              Wilkes, Mrs. James (Ellen Needs)   \n",
       "2            894       2                     Myles, Mr. Thomas Francis   \n",
       "3            895       3                              Wirz, Mr. Albert   \n",
       "4            896       3  Hirvonen, Mrs. Alexander (Helga E Lindqvist)   \n",
       "..           ...     ...                                           ...   \n",
       "413         1305       3                            Spector, Mr. Woolf   \n",
       "414         1306       1                  Oliva y Ocana, Dona. Fermina   \n",
       "415         1307       3                  Saether, Mr. Simon Sivertsen   \n",
       "416         1308       3                           Ware, Mr. Frederick   \n",
       "417         1309       3                      Peter, Master. Michael J   \n",
       "\n",
       "        Sex   Age  SibSp  Parch              Ticket      Fare Cabin Embarked  \n",
       "0      male  34.5      0      0              330911    7.8292   NaN        Q  \n",
       "1    female  47.0      1      0              363272    7.0000   NaN        S  \n",
       "2      male  62.0      0      0              240276    9.6875   NaN        Q  \n",
       "3      male  27.0      0      0              315154    8.6625   NaN        S  \n",
       "4    female  22.0      1      1             3101298   12.2875   NaN        S  \n",
       "..      ...   ...    ...    ...                 ...       ...   ...      ...  \n",
       "413    male   NaN      0      0           A.5. 3236    8.0500   NaN        S  \n",
       "414  female  39.0      0      0            PC 17758  108.9000  C105        C  \n",
       "415    male  38.5      0      0  SOTON/O.Q. 3101262    7.2500   NaN        S  \n",
       "416    male   NaN      0      0              359309    8.0500   NaN        S  \n",
       "417    male   NaN      1      1                2668   22.3583   NaN        C  \n",
       "\n",
       "[418 rows x 11 columns]"
      ]
     },
     "execution_count": 3,
     "metadata": {},
     "output_type": "execute_result"
    }
   ],
   "source": [
    "test_data = pd.read_csv('../input/c/titanic/test.csv')\n",
    "test_data"
   ]
  },
  {
   "cell_type": "markdown",
   "id": "f9cb647e",
   "metadata": {
    "papermill": {
     "duration": 0.021877,
     "end_time": "2022-07-25T17:24:39.247913",
     "exception": false,
     "start_time": "2022-07-25T17:24:39.226036",
     "status": "completed"
    },
    "tags": []
   },
   "source": [
    "# Analysis\n",
    "Lets have a look to the data, in order to see what we are dealing with."
   ]
  },
  {
   "cell_type": "code",
   "execution_count": 4,
   "id": "bf552d18",
   "metadata": {
    "execution": {
     "iopub.execute_input": "2022-07-25T17:24:39.295552Z",
     "iopub.status.busy": "2022-07-25T17:24:39.294534Z",
     "iopub.status.idle": "2022-07-25T17:24:39.328082Z",
     "shell.execute_reply": "2022-07-25T17:24:39.326531Z"
    },
    "papermill": {
     "duration": 0.061821,
     "end_time": "2022-07-25T17:24:39.331259",
     "exception": false,
     "start_time": "2022-07-25T17:24:39.269438",
     "status": "completed"
    },
    "tags": []
   },
   "outputs": [
    {
     "name": "stdout",
     "output_type": "stream",
     "text": [
      "<class 'pandas.core.frame.DataFrame'>\n",
      "RangeIndex: 891 entries, 0 to 890\n",
      "Data columns (total 12 columns):\n",
      " #   Column       Non-Null Count  Dtype  \n",
      "---  ------       --------------  -----  \n",
      " 0   PassengerId  891 non-null    int64  \n",
      " 1   Survived     891 non-null    int64  \n",
      " 2   Pclass       891 non-null    int64  \n",
      " 3   Name         891 non-null    object \n",
      " 4   Sex          891 non-null    object \n",
      " 5   Age          714 non-null    float64\n",
      " 6   SibSp        891 non-null    int64  \n",
      " 7   Parch        891 non-null    int64  \n",
      " 8   Ticket       891 non-null    object \n",
      " 9   Fare         891 non-null    float64\n",
      " 10  Cabin        204 non-null    object \n",
      " 11  Embarked     889 non-null    object \n",
      "dtypes: float64(2), int64(5), object(5)\n",
      "memory usage: 83.7+ KB\n"
     ]
    }
   ],
   "source": [
    "train_data.info()"
   ]
  },
  {
   "cell_type": "markdown",
   "id": "2452b674",
   "metadata": {
    "papermill": {
     "duration": 0.022312,
     "end_time": "2022-07-25T17:24:39.375718",
     "exception": false,
     "start_time": "2022-07-25T17:24:39.353406",
     "status": "completed"
    },
    "tags": []
   },
   "source": [
    "We can see that we have **Nan values** in three variables:\n",
    "* 'Age'\n",
    "* 'Cabin' (Most values are Nan, we will have to analyse why, if is a missing data problem or maybe they did not have a cabin.\n",
    "* 'Embarked' (Just 2)"
   ]
  },
  {
   "cell_type": "code",
   "execution_count": 5,
   "id": "91cf2f14",
   "metadata": {
    "execution": {
     "iopub.execute_input": "2022-07-25T17:24:39.421946Z",
     "iopub.status.busy": "2022-07-25T17:24:39.420900Z",
     "iopub.status.idle": "2022-07-25T17:24:39.435373Z",
     "shell.execute_reply": "2022-07-25T17:24:39.434209Z"
    },
    "papermill": {
     "duration": 0.039903,
     "end_time": "2022-07-25T17:24:39.437842",
     "exception": false,
     "start_time": "2022-07-25T17:24:39.397939",
     "status": "completed"
    },
    "tags": []
   },
   "outputs": [
    {
     "name": "stdout",
     "output_type": "stream",
     "text": [
      "S    72.4%\n",
      "C    18.9%\n",
      "Q     8.7%\n",
      "Name: Embarked, dtype: object\n",
      "\n",
      "\n",
      "male      64.8%\n",
      "female    35.2%\n",
      "Name: Sex, dtype: object\n",
      "\n",
      "\n",
      "3    55.1%\n",
      "1    24.2%\n",
      "2    20.7%\n",
      "Name: Pclass, dtype: object\n",
      "\n",
      "\n",
      "0    61.6%\n",
      "1    38.4%\n",
      "Name: Survived, dtype: object\n",
      "\n",
      "\n"
     ]
    }
   ],
   "source": [
    "cols = ['Embarked', 'Sex', 'Pclass', 'Survived']\n",
    "\n",
    "for col in cols:\n",
    "    print(train_data[col].value_counts(normalize=True).mul(100).round(1).astype(str) + '%')\n",
    "    print('\\n')"
   ]
  },
  {
   "cell_type": "markdown",
   "id": "573615b9",
   "metadata": {
    "papermill": {
     "duration": 0.02209,
     "end_time": "2022-07-25T17:24:39.482398",
     "exception": false,
     "start_time": "2022-07-25T17:24:39.460308",
     "status": "completed"
    },
    "tags": []
   },
   "source": [
    "With those simple lines of code, we can observe that:\n",
    "* The data set is **unbalanced** (having 23% between survived and non survived passengers),\n",
    "* Most people embarked on **S**(Southampton), the second busiest was **C**(Cherbourg) and the one where less people embarked is **Q** (Queenstown),\n",
    "* There were 30% more of male passengers on board the Titanic.\n",
    "* Over half of the passengers belonged to 3rd class. And the rest was split almost equally between 1st and 2nd class."
   ]
  },
  {
   "cell_type": "code",
   "execution_count": 6,
   "id": "f80a91ea",
   "metadata": {
    "execution": {
     "iopub.execute_input": "2022-07-25T17:24:39.529763Z",
     "iopub.status.busy": "2022-07-25T17:24:39.528675Z",
     "iopub.status.idle": "2022-07-25T17:24:39.542935Z",
     "shell.execute_reply": "2022-07-25T17:24:39.541864Z"
    },
    "papermill": {
     "duration": 0.040857,
     "end_time": "2022-07-25T17:24:39.545974",
     "exception": false,
     "start_time": "2022-07-25T17:24:39.505117",
     "status": "completed"
    },
    "tags": []
   },
   "outputs": [
    {
     "name": "stdout",
     "output_type": "stream",
     "text": [
      "count    714.000000\n",
      "mean      29.699118\n",
      "std       14.526497\n",
      "min        0.420000\n",
      "25%       20.125000\n",
      "50%       28.000000\n",
      "75%       38.000000\n",
      "max       80.000000\n",
      "Name: Age, dtype: float64\n",
      "\n",
      "\n",
      "count    891.000000\n",
      "mean      32.204208\n",
      "std       49.693429\n",
      "min        0.000000\n",
      "25%        7.910400\n",
      "50%       14.454200\n",
      "75%       31.000000\n",
      "max      512.329200\n",
      "Name: Fare, dtype: float64\n"
     ]
    }
   ],
   "source": [
    "print(train_data['Age'].describe())\n",
    "print('\\n')\n",
    "print(train_data['Fare'].describe())"
   ]
  },
  {
   "cell_type": "markdown",
   "id": "2ce7b20a",
   "metadata": {
    "papermill": {
     "duration": 0.022243,
     "end_time": "2022-07-25T17:24:39.592032",
     "exception": false,
     "start_time": "2022-07-25T17:24:39.569789",
     "status": "completed"
    },
    "tags": []
   },
   "source": [
    "**1.** As mentioned before, in 'Age' we are missing some values. We can highlight that the youngest person on board must have been a new born, as it has less than 1 year of age. While the oldest was 80 years old. \n",
    "\n",
    "**2.** We can see in the second chart that the max Fare is a lot bigger that the mean, so it may be an outlier or will see after analysing that variable."
   ]
  },
  {
   "cell_type": "code",
   "execution_count": 7,
   "id": "840fa437",
   "metadata": {
    "execution": {
     "iopub.execute_input": "2022-07-25T17:24:39.638584Z",
     "iopub.status.busy": "2022-07-25T17:24:39.637877Z",
     "iopub.status.idle": "2022-07-25T17:24:39.643863Z",
     "shell.execute_reply": "2022-07-25T17:24:39.643000Z"
    },
    "papermill": {
     "duration": 0.031954,
     "end_time": "2022-07-25T17:24:39.646531",
     "exception": false,
     "start_time": "2022-07-25T17:24:39.614577",
     "status": "completed"
    },
    "tags": []
   },
   "outputs": [
    {
     "name": "stdout",
     "output_type": "stream",
     "text": [
      "0                               Braund, Mr. Owen Harris\n",
      "1     Cumings, Mrs. John Bradley (Florence Briggs Th...\n",
      "2                                Heikkinen, Miss. Laina\n",
      "3          Futrelle, Mrs. Jacques Heath (Lily May Peel)\n",
      "4                              Allen, Mr. William Henry\n",
      "5                                      Moran, Mr. James\n",
      "6                               McCarthy, Mr. Timothy J\n",
      "7                        Palsson, Master. Gosta Leonard\n",
      "8     Johnson, Mrs. Oscar W (Elisabeth Vilhelmina Berg)\n",
      "9                   Nasser, Mrs. Nicholas (Adele Achem)\n",
      "10                      Sandstrom, Miss. Marguerite Rut\n",
      "11                             Bonnell, Miss. Elizabeth\n",
      "12                       Saundercock, Mr. William Henry\n",
      "13                          Andersson, Mr. Anders Johan\n",
      "14                 Vestrom, Miss. Hulda Amanda Adolfina\n",
      "15                     Hewlett, Mrs. (Mary D Kingcome) \n",
      "16                                 Rice, Master. Eugene\n",
      "17                         Williams, Mr. Charles Eugene\n",
      "18    Vander Planke, Mrs. Julius (Emelia Maria Vande...\n",
      "19                              Masselmani, Mrs. Fatima\n",
      "Name: Name, dtype: object\n"
     ]
    }
   ],
   "source": [
    "print(train_data['Name'].head(20))"
   ]
  },
  {
   "cell_type": "markdown",
   "id": "81ccae12",
   "metadata": {
    "papermill": {
     "duration": 0.021769,
     "end_time": "2022-07-25T17:24:39.691824",
     "exception": false,
     "start_time": "2022-07-25T17:24:39.670055",
     "status": "completed"
    },
    "tags": []
   },
   "source": [
    "We can see that all passengers have a 'Status' inside their names. We are going to extract it and try to get some info out of them."
   ]
  },
  {
   "cell_type": "code",
   "execution_count": 8,
   "id": "53d00775",
   "metadata": {
    "execution": {
     "iopub.execute_input": "2022-07-25T17:24:39.737542Z",
     "iopub.status.busy": "2022-07-25T17:24:39.736840Z",
     "iopub.status.idle": "2022-07-25T17:24:39.746055Z",
     "shell.execute_reply": "2022-07-25T17:24:39.745096Z"
    },
    "papermill": {
     "duration": 0.034859,
     "end_time": "2022-07-25T17:24:39.748421",
     "exception": false,
     "start_time": "2022-07-25T17:24:39.713562",
     "status": "completed"
    },
    "tags": []
   },
   "outputs": [
    {
     "name": "stdout",
     "output_type": "stream",
     "text": [
      "Mr          517\n",
      "Miss        182\n",
      "Mrs         125\n",
      "Master       40\n",
      "Dr            7\n",
      "Rev           6\n",
      "Mlle          2\n",
      "Major         2\n",
      "Col           2\n",
      "Countess      1\n",
      "Capt          1\n",
      "Ms            1\n",
      "Sir           1\n",
      "Lady          1\n",
      "Mme           1\n",
      "Don           1\n",
      "Jonkheer      1\n",
      "Name: Status, dtype: int64\n"
     ]
    }
   ],
   "source": [
    "train_data['Status'] = train_data['Name'].str.extract(' ([A-Za-z]+)\\.', expand=False)\n",
    "print(train_data['Status'].value_counts())"
   ]
  },
  {
   "cell_type": "code",
   "execution_count": 9,
   "id": "a69125ff",
   "metadata": {
    "execution": {
     "iopub.execute_input": "2022-07-25T17:24:39.794627Z",
     "iopub.status.busy": "2022-07-25T17:24:39.794000Z",
     "iopub.status.idle": "2022-07-25T17:24:39.807177Z",
     "shell.execute_reply": "2022-07-25T17:24:39.806347Z"
    },
    "papermill": {
     "duration": 0.039254,
     "end_time": "2022-07-25T17:24:39.809607",
     "exception": false,
     "start_time": "2022-07-25T17:24:39.770353",
     "status": "completed"
    },
    "tags": []
   },
   "outputs": [
    {
     "name": "stdout",
     "output_type": "stream",
     "text": [
      "Mr          517\n",
      "Miss        185\n",
      "Mrs         126\n",
      "Master       40\n",
      "Officers     18\n",
      "Royal         5\n",
      "Name: Status, dtype: int64\n"
     ]
    }
   ],
   "source": [
    "'''\n",
    "Some of the 'Status' are very similar, we are going to group them in order to have a more clear idea of what we are dealing with.\n",
    "'''\n",
    "train_data['Status'] = train_data['Status'].replace(['Lady', 'Countess', 'Don', 'Sir', 'Jonkheer', 'Dona'], 'Royal')\n",
    "\n",
    "train_data['Status'] = train_data['Status'].replace(['Capt', 'Col','Major', 'Rev', 'Dr'], 'Officers')\n",
    "\n",
    "train_data['Status'] = train_data['Status'].replace('Mlle', 'Miss')\n",
    "train_data['Status'] = train_data['Status'].replace('Ms', 'Miss')\n",
    "train_data['Status'] = train_data['Status'].replace('Mme', 'Mrs')\n",
    "\n",
    "print(train_data['Status'].value_counts())"
   ]
  },
  {
   "cell_type": "code",
   "execution_count": 10,
   "id": "3d75dfb4",
   "metadata": {
    "execution": {
     "iopub.execute_input": "2022-07-25T17:24:39.855413Z",
     "iopub.status.busy": "2022-07-25T17:24:39.854747Z",
     "iopub.status.idle": "2022-07-25T17:24:39.865694Z",
     "shell.execute_reply": "2022-07-25T17:24:39.864803Z"
    },
    "papermill": {
     "duration": 0.036392,
     "end_time": "2022-07-25T17:24:39.867817",
     "exception": false,
     "start_time": "2022-07-25T17:24:39.831425",
     "status": "completed"
    },
    "tags": []
   },
   "outputs": [
    {
     "name": "stdout",
     "output_type": "stream",
     "text": [
      "count    36.000000\n",
      "mean      4.574167\n",
      "std       3.619872\n",
      "min       0.420000\n",
      "25%       1.000000\n",
      "50%       3.500000\n",
      "75%       8.000000\n",
      "max      12.000000\n",
      "Name: Age, dtype: float64\n",
      "\n",
      "\n",
      "male    40\n",
      "Name: Sex, dtype: int64\n"
     ]
    }
   ],
   "source": [
    "print(train_data.loc[train_data['Status'] == 'Master', 'Age'].describe())\n",
    "print('\\n')\n",
    "print(train_data.loc[train_data['Status'] == 'Master', 'Sex'].value_counts())"
   ]
  },
  {
   "cell_type": "markdown",
   "id": "83b86ac8",
   "metadata": {
    "papermill": {
     "duration": 0.023082,
     "end_time": "2022-07-25T17:24:39.913259",
     "exception": false,
     "start_time": "2022-07-25T17:24:39.890177",
     "status": "completed"
    },
    "tags": []
   },
   "source": [
    "We can observe that ALL passengers with the **'Status == Master'** are **under 12** years old and are **male**. \n",
    "We are going to use this info to try to fill some missing data in the most accurate way."
   ]
  },
  {
   "cell_type": "code",
   "execution_count": 11,
   "id": "6994033f",
   "metadata": {
    "execution": {
     "iopub.execute_input": "2022-07-25T17:24:39.959647Z",
     "iopub.status.busy": "2022-07-25T17:24:39.959014Z",
     "iopub.status.idle": "2022-07-25T17:24:39.972888Z",
     "shell.execute_reply": "2022-07-25T17:24:39.971921Z"
    },
    "papermill": {
     "duration": 0.039969,
     "end_time": "2022-07-25T17:24:39.975146",
     "exception": false,
     "start_time": "2022-07-25T17:24:39.935177",
     "status": "completed"
    },
    "tags": []
   },
   "outputs": [
    {
     "data": {
      "text/plain": [
       "Status    Sex   \n",
       "Master    male       4.574167\n",
       "Miss      female    21.845638\n",
       "Mr        male      32.368090\n",
       "Mrs       female    35.788991\n",
       "Officers  female    49.000000\n",
       "          male      46.562500\n",
       "Royal     female    40.500000\n",
       "          male      42.333333\n",
       "Name: Age, dtype: float64"
      ]
     },
     "execution_count": 11,
     "metadata": {},
     "output_type": "execute_result"
    }
   ],
   "source": [
    "train_data.groupby(['Status','Sex']).Age.mean()"
   ]
  },
  {
   "cell_type": "code",
   "execution_count": 12,
   "id": "9750d752",
   "metadata": {
    "execution": {
     "iopub.execute_input": "2022-07-25T17:24:40.022966Z",
     "iopub.status.busy": "2022-07-25T17:24:40.022132Z",
     "iopub.status.idle": "2022-07-25T17:24:40.034348Z",
     "shell.execute_reply": "2022-07-25T17:24:40.032777Z"
    },
    "papermill": {
     "duration": 0.039918,
     "end_time": "2022-07-25T17:24:40.037738",
     "exception": false,
     "start_time": "2022-07-25T17:24:39.997820",
     "status": "completed"
    },
    "tags": []
   },
   "outputs": [
    {
     "name": "stdout",
     "output_type": "stream",
     "text": [
      "     PassengerId  Survived  Pclass                                       Name  \\\n",
      "61            62         1       1                        Icard, Miss. Amelie   \n",
      "829          830         1       1  Stone, Mrs. George Nelson (Martha Evelyn)   \n",
      "\n",
      "        Sex   Age  SibSp  Parch  Ticket  Fare Cabin Embarked Status  \n",
      "61   female  38.0      0      0  113572  80.0   B28      NaN   Miss  \n",
      "829  female  62.0      0      0  113572  80.0   B28      NaN    Mrs  \n"
     ]
    }
   ],
   "source": [
    "print(train_data[train_data['Embarked'].isnull()])"
   ]
  },
  {
   "cell_type": "markdown",
   "id": "28b87a20",
   "metadata": {
    "papermill": {
     "duration": 0.021983,
     "end_time": "2022-07-25T17:24:40.083280",
     "exception": false,
     "start_time": "2022-07-25T17:24:40.061297",
     "status": "completed"
    },
    "tags": []
   },
   "source": [
    "After doing some futher analysis on the two missing values in 'Embarked', i run into a forum that talked about it. It explained that 'Icard, Miss. Amelie' boarded the titanic as the maid of 'Stone, Mrs. George Nelson (Martha Evelyn). They both embarked in 'Southampton'. (This is the only external information used in this notebook)"
   ]
  },
  {
   "cell_type": "code",
   "execution_count": 13,
   "id": "a72e738d",
   "metadata": {
    "execution": {
     "iopub.execute_input": "2022-07-25T17:24:40.130098Z",
     "iopub.status.busy": "2022-07-25T17:24:40.129382Z",
     "iopub.status.idle": "2022-07-25T17:24:40.139191Z",
     "shell.execute_reply": "2022-07-25T17:24:40.137631Z"
    },
    "papermill": {
     "duration": 0.036935,
     "end_time": "2022-07-25T17:24:40.142671",
     "exception": false,
     "start_time": "2022-07-25T17:24:40.105736",
     "status": "completed"
    },
    "tags": []
   },
   "outputs": [
    {
     "name": "stdout",
     "output_type": "stream",
     "text": [
      "C    59\n",
      "B    47\n",
      "D    33\n",
      "E    32\n",
      "A    15\n",
      "F    13\n",
      "G     4\n",
      "T     1\n",
      "Name: Cabin, dtype: int64\n"
     ]
    }
   ],
   "source": [
    "train_data['Cabin'] = train_data['Cabin'].str.extract('([A-Za-z]+)', expand=False)\n",
    "print(train_data['Cabin'].value_counts())"
   ]
  },
  {
   "cell_type": "markdown",
   "id": "35450013",
   "metadata": {
    "papermill": {
     "duration": 0.022685,
     "end_time": "2022-07-25T17:24:40.188834",
     "exception": false,
     "start_time": "2022-07-25T17:24:40.166149",
     "status": "completed"
    },
    "tags": []
   },
   "source": [
    "We extracted the letter from the 'Cabin' variable. I want to see if there is any posibility of filling the missing values or getting something out of this column. Or if it is just useless."
   ]
  },
  {
   "cell_type": "markdown",
   "id": "0cf4282e",
   "metadata": {
    "papermill": {
     "duration": 0.02179,
     "end_time": "2022-07-25T17:24:40.233158",
     "exception": false,
     "start_time": "2022-07-25T17:24:40.211368",
     "status": "completed"
    },
    "tags": []
   },
   "source": [
    "# Nan Values"
   ]
  },
  {
   "cell_type": "code",
   "execution_count": 14,
   "id": "da4a0333",
   "metadata": {
    "execution": {
     "iopub.execute_input": "2022-07-25T17:24:40.279794Z",
     "iopub.status.busy": "2022-07-25T17:24:40.278739Z",
     "iopub.status.idle": "2022-07-25T17:24:40.296980Z",
     "shell.execute_reply": "2022-07-25T17:24:40.295825Z"
    },
    "papermill": {
     "duration": 0.04424,
     "end_time": "2022-07-25T17:24:40.299574",
     "exception": false,
     "start_time": "2022-07-25T17:24:40.255334",
     "status": "completed"
    },
    "tags": []
   },
   "outputs": [],
   "source": [
    "'''\n",
    "Filling all the Males with rank master the mean we obtain before\n",
    "'''\n",
    "train_data['Age'] = np.where((train_data['Status'] == 'Master') & (train_data['Age'].isnull()), train_data['Age'].fillna(4.5), train_data['Age'])\n",
    "'''\n",
    "We will fill the rest with the average of each social status\n",
    "'''\n",
    "train_data['Age'] = np.where((train_data['Status'] == 'Miss') & (train_data['Age'].isnull()), train_data['Age'].fillna(21.8), train_data['Age'])\n",
    "\n",
    "train_data['Age'] = np.where((train_data['Status'] == 'Mr') & (train_data['Age'].isnull()), train_data['Age'].fillna(32.3), train_data['Age'])\n",
    "\n",
    "train_data['Age'] = np.where((train_data['Status'] == 'Mrs') & (train_data['Age'].isnull()), train_data['Age'].fillna(35.8), train_data['Age'])\n",
    "\n",
    "train_data['Age'] = np.where((train_data['Status'] == 'Officers') & (train_data['Age'].isnull()), train_data['Age'].fillna(47.5), train_data['Age'])\n",
    "\n",
    "train_data['Age'] = np.where((train_data['Status'] == 'Royal') & (train_data['Age'].isnull()), train_data['Age'].fillna(41), train_data['Age'])\n",
    "\n",
    "'''\n",
    "Filling the 'Embarked' with S (explained before)\n",
    "'''\n",
    "train_data['Embarked'] = train_data['Embarked'].fillna('S')"
   ]
  },
  {
   "cell_type": "code",
   "execution_count": 15,
   "id": "078ce44e",
   "metadata": {
    "execution": {
     "iopub.execute_input": "2022-07-25T17:24:40.347179Z",
     "iopub.status.busy": "2022-07-25T17:24:40.346801Z",
     "iopub.status.idle": "2022-07-25T17:24:40.355917Z",
     "shell.execute_reply": "2022-07-25T17:24:40.354751Z"
    },
    "papermill": {
     "duration": 0.03549,
     "end_time": "2022-07-25T17:24:40.358196",
     "exception": false,
     "start_time": "2022-07-25T17:24:40.322706",
     "status": "completed"
    },
    "tags": []
   },
   "outputs": [],
   "source": [
    "'''\n",
    "With Cabin we are going to try two methods,assigning if they had or not a cabin. \n",
    "And we will also try removing the variable and see what happends. \n",
    "First we are going to say if they had or not a cabin, and see how the model reacts. If we see that\n",
    "it is useful we will leave it, else we will drop the column or check other more apropiate methods.\n",
    "'''\n",
    "train_data['Has_cabin'] = np.where(train_data['Cabin'].isnull(), 0, 1)\n",
    "train_data.drop('Cabin', axis = 1, inplace = True)"
   ]
  },
  {
   "cell_type": "code",
   "execution_count": 16,
   "id": "bc273887",
   "metadata": {
    "execution": {
     "iopub.execute_input": "2022-07-25T17:24:40.406458Z",
     "iopub.status.busy": "2022-07-25T17:24:40.405362Z",
     "iopub.status.idle": "2022-07-25T17:24:40.418943Z",
     "shell.execute_reply": "2022-07-25T17:24:40.417744Z"
    },
    "papermill": {
     "duration": 0.04025,
     "end_time": "2022-07-25T17:24:40.421693",
     "exception": false,
     "start_time": "2022-07-25T17:24:40.381443",
     "status": "completed"
    },
    "tags": []
   },
   "outputs": [
    {
     "name": "stdout",
     "output_type": "stream",
     "text": [
      "PassengerId: 0\n",
      "Survived: 0\n",
      "Pclass: 0\n",
      "Name: 0\n",
      "Sex: 0\n",
      "Age: 0\n",
      "SibSp: 0\n",
      "Parch: 0\n",
      "Ticket: 0\n",
      "Fare: 0\n",
      "Embarked: 0\n",
      "Status: 0\n",
      "Has_cabin: 0\n",
      "False\n"
     ]
    }
   ],
   "source": [
    "columns = train_data.columns\n",
    "for column in columns:\n",
    "    has_nan = train_data[column].isnull().sum(axis = 0)\n",
    "    print(f'{column}: {has_nan}')\n",
    "    \n",
    "print(train_data.isnull().values.any())"
   ]
  },
  {
   "cell_type": "markdown",
   "id": "48ea26ec",
   "metadata": {
    "papermill": {
     "duration": 0.022047,
     "end_time": "2022-07-25T17:24:40.466469",
     "exception": false,
     "start_time": "2022-07-25T17:24:40.444422",
     "status": "completed"
    },
    "tags": []
   },
   "source": [
    "We have taken care of all the Nan values in the data set."
   ]
  },
  {
   "cell_type": "markdown",
   "id": "4949af97",
   "metadata": {
    "papermill": {
     "duration": 0.022427,
     "end_time": "2022-07-25T17:24:40.511411",
     "exception": false,
     "start_time": "2022-07-25T17:24:40.488984",
     "status": "completed"
    },
    "tags": []
   },
   "source": [
    "# Feature Engineering"
   ]
  },
  {
   "cell_type": "code",
   "execution_count": 17,
   "id": "8c208073",
   "metadata": {
    "execution": {
     "iopub.execute_input": "2022-07-25T17:24:40.558816Z",
     "iopub.status.busy": "2022-07-25T17:24:40.558077Z",
     "iopub.status.idle": "2022-07-25T17:24:40.573952Z",
     "shell.execute_reply": "2022-07-25T17:24:40.572800Z"
    },
    "papermill": {
     "duration": 0.042837,
     "end_time": "2022-07-25T17:24:40.576890",
     "exception": false,
     "start_time": "2022-07-25T17:24:40.534053",
     "status": "completed"
    },
    "tags": []
   },
   "outputs": [
    {
     "name": "stdout",
     "output_type": "stream",
     "text": [
      "Andersson    9\n",
      "Sage         7\n",
      "Panula       6\n",
      "Johnson      6\n",
      "Skoog        6\n",
      "            ..\n",
      "Hanna        1\n",
      "Lewy         1\n",
      "Mineff       1\n",
      "Haas         1\n",
      "Dooley       1\n",
      "Name: Surname, Length: 666, dtype: int64\n"
     ]
    }
   ],
   "source": [
    "'''\n",
    "Creating variable to detect if it was considered a child or not. Acording to the oficial Titanic data, 12 or under was \n",
    "consider a child. Older it was an adult.\n",
    "'''\n",
    "train_data['Is_child'] = np.where(train_data['Age'] <= 12, 1, 0)\n",
    "\n",
    "'''\n",
    "Transform Sex in numeric\n",
    "'''\n",
    "train_data['Sex'] = np.where(train_data['Sex'] == 'male', 1,0)\n",
    "\n",
    "'''\n",
    "From the Name we have already extracted the 'Status', maybe we could do something with the families, so just in case we will\n",
    "also extract the surname in case we want to use it later.\n",
    "'''\n",
    "train_data['Surname'] = train_data['Name'].str.extract('([A-Za-z]+)\\,', expand=False)\n",
    "print(train_data['Surname'].value_counts())\n",
    "train_data.drop('Name', axis = 1, inplace = True)"
   ]
  },
  {
   "cell_type": "code",
   "execution_count": 18,
   "id": "bb25f3fa",
   "metadata": {
    "execution": {
     "iopub.execute_input": "2022-07-25T17:24:40.625624Z",
     "iopub.status.busy": "2022-07-25T17:24:40.625219Z",
     "iopub.status.idle": "2022-07-25T17:24:40.651643Z",
     "shell.execute_reply": "2022-07-25T17:24:40.650161Z"
    },
    "papermill": {
     "duration": 0.053863,
     "end_time": "2022-07-25T17:24:40.654279",
     "exception": false,
     "start_time": "2022-07-25T17:24:40.600416",
     "status": "completed"
    },
    "tags": []
   },
   "outputs": [
    {
     "data": {
      "text/html": [
       "<div>\n",
       "<style scoped>\n",
       "    .dataframe tbody tr th:only-of-type {\n",
       "        vertical-align: middle;\n",
       "    }\n",
       "\n",
       "    .dataframe tbody tr th {\n",
       "        vertical-align: top;\n",
       "    }\n",
       "\n",
       "    .dataframe thead th {\n",
       "        text-align: right;\n",
       "    }\n",
       "</style>\n",
       "<table border=\"1\" class=\"dataframe\">\n",
       "  <thead>\n",
       "    <tr style=\"text-align: right;\">\n",
       "      <th></th>\n",
       "      <th>PassengerId</th>\n",
       "      <th>Survived</th>\n",
       "      <th>Pclass</th>\n",
       "      <th>Sex</th>\n",
       "      <th>Age</th>\n",
       "      <th>SibSp</th>\n",
       "      <th>Parch</th>\n",
       "      <th>Ticket</th>\n",
       "      <th>Fare</th>\n",
       "      <th>Embarked</th>\n",
       "      <th>Status</th>\n",
       "      <th>Has_cabin</th>\n",
       "      <th>Is_child</th>\n",
       "      <th>Surname</th>\n",
       "    </tr>\n",
       "  </thead>\n",
       "  <tbody>\n",
       "    <tr>\n",
       "      <th>0</th>\n",
       "      <td>1</td>\n",
       "      <td>0</td>\n",
       "      <td>3</td>\n",
       "      <td>1</td>\n",
       "      <td>22.0</td>\n",
       "      <td>1</td>\n",
       "      <td>0</td>\n",
       "      <td>A/5 21171</td>\n",
       "      <td>7.2500</td>\n",
       "      <td>S</td>\n",
       "      <td>Mr</td>\n",
       "      <td>0</td>\n",
       "      <td>0</td>\n",
       "      <td>Braund</td>\n",
       "    </tr>\n",
       "    <tr>\n",
       "      <th>1</th>\n",
       "      <td>2</td>\n",
       "      <td>1</td>\n",
       "      <td>1</td>\n",
       "      <td>0</td>\n",
       "      <td>38.0</td>\n",
       "      <td>1</td>\n",
       "      <td>0</td>\n",
       "      <td>PC 17599</td>\n",
       "      <td>71.2833</td>\n",
       "      <td>C</td>\n",
       "      <td>Mrs</td>\n",
       "      <td>1</td>\n",
       "      <td>0</td>\n",
       "      <td>Cumings</td>\n",
       "    </tr>\n",
       "    <tr>\n",
       "      <th>2</th>\n",
       "      <td>3</td>\n",
       "      <td>1</td>\n",
       "      <td>3</td>\n",
       "      <td>0</td>\n",
       "      <td>26.0</td>\n",
       "      <td>0</td>\n",
       "      <td>0</td>\n",
       "      <td>STON/O2. 3101282</td>\n",
       "      <td>7.9250</td>\n",
       "      <td>S</td>\n",
       "      <td>Miss</td>\n",
       "      <td>0</td>\n",
       "      <td>0</td>\n",
       "      <td>Heikkinen</td>\n",
       "    </tr>\n",
       "    <tr>\n",
       "      <th>3</th>\n",
       "      <td>4</td>\n",
       "      <td>1</td>\n",
       "      <td>1</td>\n",
       "      <td>0</td>\n",
       "      <td>35.0</td>\n",
       "      <td>1</td>\n",
       "      <td>0</td>\n",
       "      <td>113803</td>\n",
       "      <td>53.1000</td>\n",
       "      <td>S</td>\n",
       "      <td>Mrs</td>\n",
       "      <td>1</td>\n",
       "      <td>0</td>\n",
       "      <td>Futrelle</td>\n",
       "    </tr>\n",
       "    <tr>\n",
       "      <th>4</th>\n",
       "      <td>5</td>\n",
       "      <td>0</td>\n",
       "      <td>3</td>\n",
       "      <td>1</td>\n",
       "      <td>35.0</td>\n",
       "      <td>0</td>\n",
       "      <td>0</td>\n",
       "      <td>373450</td>\n",
       "      <td>8.0500</td>\n",
       "      <td>S</td>\n",
       "      <td>Mr</td>\n",
       "      <td>0</td>\n",
       "      <td>0</td>\n",
       "      <td>Allen</td>\n",
       "    </tr>\n",
       "    <tr>\n",
       "      <th>...</th>\n",
       "      <td>...</td>\n",
       "      <td>...</td>\n",
       "      <td>...</td>\n",
       "      <td>...</td>\n",
       "      <td>...</td>\n",
       "      <td>...</td>\n",
       "      <td>...</td>\n",
       "      <td>...</td>\n",
       "      <td>...</td>\n",
       "      <td>...</td>\n",
       "      <td>...</td>\n",
       "      <td>...</td>\n",
       "      <td>...</td>\n",
       "      <td>...</td>\n",
       "    </tr>\n",
       "    <tr>\n",
       "      <th>886</th>\n",
       "      <td>887</td>\n",
       "      <td>0</td>\n",
       "      <td>2</td>\n",
       "      <td>1</td>\n",
       "      <td>27.0</td>\n",
       "      <td>0</td>\n",
       "      <td>0</td>\n",
       "      <td>211536</td>\n",
       "      <td>13.0000</td>\n",
       "      <td>S</td>\n",
       "      <td>Officers</td>\n",
       "      <td>0</td>\n",
       "      <td>0</td>\n",
       "      <td>Montvila</td>\n",
       "    </tr>\n",
       "    <tr>\n",
       "      <th>887</th>\n",
       "      <td>888</td>\n",
       "      <td>1</td>\n",
       "      <td>1</td>\n",
       "      <td>0</td>\n",
       "      <td>19.0</td>\n",
       "      <td>0</td>\n",
       "      <td>0</td>\n",
       "      <td>112053</td>\n",
       "      <td>30.0000</td>\n",
       "      <td>S</td>\n",
       "      <td>Miss</td>\n",
       "      <td>1</td>\n",
       "      <td>0</td>\n",
       "      <td>Graham</td>\n",
       "    </tr>\n",
       "    <tr>\n",
       "      <th>888</th>\n",
       "      <td>889</td>\n",
       "      <td>0</td>\n",
       "      <td>3</td>\n",
       "      <td>0</td>\n",
       "      <td>21.8</td>\n",
       "      <td>1</td>\n",
       "      <td>2</td>\n",
       "      <td>W./C. 6607</td>\n",
       "      <td>23.4500</td>\n",
       "      <td>S</td>\n",
       "      <td>Miss</td>\n",
       "      <td>0</td>\n",
       "      <td>0</td>\n",
       "      <td>Johnston</td>\n",
       "    </tr>\n",
       "    <tr>\n",
       "      <th>889</th>\n",
       "      <td>890</td>\n",
       "      <td>1</td>\n",
       "      <td>1</td>\n",
       "      <td>1</td>\n",
       "      <td>26.0</td>\n",
       "      <td>0</td>\n",
       "      <td>0</td>\n",
       "      <td>111369</td>\n",
       "      <td>30.0000</td>\n",
       "      <td>C</td>\n",
       "      <td>Mr</td>\n",
       "      <td>1</td>\n",
       "      <td>0</td>\n",
       "      <td>Behr</td>\n",
       "    </tr>\n",
       "    <tr>\n",
       "      <th>890</th>\n",
       "      <td>891</td>\n",
       "      <td>0</td>\n",
       "      <td>3</td>\n",
       "      <td>1</td>\n",
       "      <td>32.0</td>\n",
       "      <td>0</td>\n",
       "      <td>0</td>\n",
       "      <td>370376</td>\n",
       "      <td>7.7500</td>\n",
       "      <td>Q</td>\n",
       "      <td>Mr</td>\n",
       "      <td>0</td>\n",
       "      <td>0</td>\n",
       "      <td>Dooley</td>\n",
       "    </tr>\n",
       "  </tbody>\n",
       "</table>\n",
       "<p>891 rows × 14 columns</p>\n",
       "</div>"
      ],
      "text/plain": [
       "     PassengerId  Survived  Pclass  Sex   Age  SibSp  Parch            Ticket  \\\n",
       "0              1         0       3    1  22.0      1      0         A/5 21171   \n",
       "1              2         1       1    0  38.0      1      0          PC 17599   \n",
       "2              3         1       3    0  26.0      0      0  STON/O2. 3101282   \n",
       "3              4         1       1    0  35.0      1      0            113803   \n",
       "4              5         0       3    1  35.0      0      0            373450   \n",
       "..           ...       ...     ...  ...   ...    ...    ...               ...   \n",
       "886          887         0       2    1  27.0      0      0            211536   \n",
       "887          888         1       1    0  19.0      0      0            112053   \n",
       "888          889         0       3    0  21.8      1      2        W./C. 6607   \n",
       "889          890         1       1    1  26.0      0      0            111369   \n",
       "890          891         0       3    1  32.0      0      0            370376   \n",
       "\n",
       "        Fare Embarked    Status  Has_cabin  Is_child    Surname  \n",
       "0     7.2500        S        Mr          0         0     Braund  \n",
       "1    71.2833        C       Mrs          1         0    Cumings  \n",
       "2     7.9250        S      Miss          0         0  Heikkinen  \n",
       "3    53.1000        S       Mrs          1         0   Futrelle  \n",
       "4     8.0500        S        Mr          0         0      Allen  \n",
       "..       ...      ...       ...        ...       ...        ...  \n",
       "886  13.0000        S  Officers          0         0   Montvila  \n",
       "887  30.0000        S      Miss          1         0     Graham  \n",
       "888  23.4500        S      Miss          0         0   Johnston  \n",
       "889  30.0000        C        Mr          1         0       Behr  \n",
       "890   7.7500        Q        Mr          0         0     Dooley  \n",
       "\n",
       "[891 rows x 14 columns]"
      ]
     },
     "execution_count": 18,
     "metadata": {},
     "output_type": "execute_result"
    }
   ],
   "source": [
    "train_data"
   ]
  },
  {
   "cell_type": "code",
   "execution_count": 19,
   "id": "4475bbf6",
   "metadata": {
    "execution": {
     "iopub.execute_input": "2022-07-25T17:24:40.704281Z",
     "iopub.status.busy": "2022-07-25T17:24:40.703453Z",
     "iopub.status.idle": "2022-07-25T17:24:40.712347Z",
     "shell.execute_reply": "2022-07-25T17:24:40.711217Z"
    },
    "papermill": {
     "duration": 0.036027,
     "end_time": "2022-07-25T17:24:40.714674",
     "exception": false,
     "start_time": "2022-07-25T17:24:40.678647",
     "status": "completed"
    },
    "tags": []
   },
   "outputs": [
    {
     "data": {
      "text/plain": [
       "'\\nWe drop the Ticket variable because a large % of them are unique values and i will be hard to make conclusion out of it.\\n'"
      ]
     },
     "execution_count": 19,
     "metadata": {},
     "output_type": "execute_result"
    }
   ],
   "source": [
    "train_data.drop('Ticket', axis = 1, inplace = True)\n",
    "'''\n",
    "We drop the Ticket variable because a large % of them are unique values and i will be hard to make conclusion out of it.\n",
    "'''"
   ]
  },
  {
   "cell_type": "code",
   "execution_count": 20,
   "id": "7524eff8",
   "metadata": {
    "execution": {
     "iopub.execute_input": "2022-07-25T17:24:40.764641Z",
     "iopub.status.busy": "2022-07-25T17:24:40.763786Z",
     "iopub.status.idle": "2022-07-25T17:24:40.773507Z",
     "shell.execute_reply": "2022-07-25T17:24:40.772609Z"
    },
    "papermill": {
     "duration": 0.038684,
     "end_time": "2022-07-25T17:24:40.776163",
     "exception": false,
     "start_time": "2022-07-25T17:24:40.737479",
     "status": "completed"
    },
    "tags": []
   },
   "outputs": [],
   "source": [
    "'''\n",
    "Family organization\n",
    "'''\n",
    "train_data['Fam_size'] = train_data['SibSp'] + train_data['Parch']\n",
    "\n",
    "train_data['Solo'] = np.where(train_data['Fam_size'] == 0, 1, 0)\n",
    "\n",
    "train_data.drop(['SibSp', 'Parch'], axis = 1, inplace = True)"
   ]
  },
  {
   "cell_type": "code",
   "execution_count": 21,
   "id": "9a4fab5a",
   "metadata": {
    "execution": {
     "iopub.execute_input": "2022-07-25T17:24:40.823728Z",
     "iopub.status.busy": "2022-07-25T17:24:40.823084Z",
     "iopub.status.idle": "2022-07-25T17:24:40.829310Z",
     "shell.execute_reply": "2022-07-25T17:24:40.828559Z"
    },
    "papermill": {
     "duration": 0.032744,
     "end_time": "2022-07-25T17:24:40.831816",
     "exception": false,
     "start_time": "2022-07-25T17:24:40.799072",
     "status": "completed"
    },
    "tags": []
   },
   "outputs": [],
   "source": [
    "'''\n",
    "Fare\n",
    "We will transfor the Fare (which is per family/group) into a personal fare.\n",
    "'''\n",
    "train_data['Fare'] = train_data['Fare'] / (train_data['Fam_size'] + 1)"
   ]
  },
  {
   "cell_type": "code",
   "execution_count": 22,
   "id": "fb0e1fe6",
   "metadata": {
    "execution": {
     "iopub.execute_input": "2022-07-25T17:24:40.881989Z",
     "iopub.status.busy": "2022-07-25T17:24:40.881219Z",
     "iopub.status.idle": "2022-07-25T17:24:40.887602Z",
     "shell.execute_reply": "2022-07-25T17:24:40.886786Z"
    },
    "papermill": {
     "duration": 0.034253,
     "end_time": "2022-07-25T17:24:40.890300",
     "exception": false,
     "start_time": "2022-07-25T17:24:40.856047",
     "status": "completed"
    },
    "tags": []
   },
   "outputs": [],
   "source": [
    "'''\n",
    "I tried a couple variables using the surname column that we extracted before, but non of those were game changing so \n",
    "we drop the 'Surname' column for now.\n",
    "'''\n",
    "train_data.drop('Surname', axis = 1, inplace = True)"
   ]
  },
  {
   "cell_type": "markdown",
   "id": "f872b1fe",
   "metadata": {
    "papermill": {
     "duration": 0.022807,
     "end_time": "2022-07-25T17:24:40.936762",
     "exception": false,
     "start_time": "2022-07-25T17:24:40.913955",
     "status": "completed"
    },
    "tags": []
   },
   "source": [
    "# Bins for 'Age'\n",
    "We are going to try using bins. If it does not work as we want, we will normalize the data"
   ]
  },
  {
   "cell_type": "code",
   "execution_count": 23,
   "id": "8dd44c65",
   "metadata": {
    "execution": {
     "iopub.execute_input": "2022-07-25T17:24:40.984842Z",
     "iopub.status.busy": "2022-07-25T17:24:40.984322Z",
     "iopub.status.idle": "2022-07-25T17:24:41.001345Z",
     "shell.execute_reply": "2022-07-25T17:24:41.000345Z"
    },
    "papermill": {
     "duration": 0.044309,
     "end_time": "2022-07-25T17:24:41.004039",
     "exception": false,
     "start_time": "2022-07-25T17:24:40.959730",
     "status": "completed"
    },
    "tags": []
   },
   "outputs": [],
   "source": [
    "train_data['Age'] = pd.cut(train_data['Age'], 6)"
   ]
  },
  {
   "cell_type": "markdown",
   "id": "74980871",
   "metadata": {
    "papermill": {
     "duration": 0.025751,
     "end_time": "2022-07-25T17:24:41.053027",
     "exception": false,
     "start_time": "2022-07-25T17:24:41.027276",
     "status": "completed"
    },
    "tags": []
   },
   "source": [
    "# Dummies Variables"
   ]
  },
  {
   "cell_type": "code",
   "execution_count": 24,
   "id": "c0ae2cc6",
   "metadata": {
    "execution": {
     "iopub.execute_input": "2022-07-25T17:24:41.102592Z",
     "iopub.status.busy": "2022-07-25T17:24:41.101825Z",
     "iopub.status.idle": "2022-07-25T17:24:41.108159Z",
     "shell.execute_reply": "2022-07-25T17:24:41.107298Z"
    },
    "papermill": {
     "duration": 0.034142,
     "end_time": "2022-07-25T17:24:41.110611",
     "exception": false,
     "start_time": "2022-07-25T17:24:41.076469",
     "status": "completed"
    },
    "tags": []
   },
   "outputs": [],
   "source": [
    "def createDummies(df, var_name):\n",
    "    dummy = pd.get_dummies(df[var_name], prefix=var_name)\n",
    "    df = df.drop(var_name, axis= 1)\n",
    "    df = pd.concat([df, dummy], axis = 1)\n",
    "    return df"
   ]
  },
  {
   "cell_type": "code",
   "execution_count": 25,
   "id": "5ea5f943",
   "metadata": {
    "execution": {
     "iopub.execute_input": "2022-07-25T17:24:41.159387Z",
     "iopub.status.busy": "2022-07-25T17:24:41.158609Z",
     "iopub.status.idle": "2022-07-25T17:24:41.172223Z",
     "shell.execute_reply": "2022-07-25T17:24:41.171267Z"
    },
    "papermill": {
     "duration": 0.041121,
     "end_time": "2022-07-25T17:24:41.174815",
     "exception": false,
     "start_time": "2022-07-25T17:24:41.133694",
     "status": "completed"
    },
    "tags": []
   },
   "outputs": [],
   "source": [
    "train_data = createDummies(train_data, 'Status')\n",
    "\n",
    "train_data = createDummies(train_data, 'Embarked')\n",
    "\n",
    "train_data = createDummies(train_data, 'Age')\n"
   ]
  },
  {
   "cell_type": "markdown",
   "id": "c63c3287",
   "metadata": {
    "papermill": {
     "duration": 0.022989,
     "end_time": "2022-07-25T17:24:41.220584",
     "exception": false,
     "start_time": "2022-07-25T17:24:41.197595",
     "status": "completed"
    },
    "tags": []
   },
   "source": [
    "# Normalizing the Data\n",
    "For now we are only going to normalize the Fare column"
   ]
  },
  {
   "cell_type": "code",
   "execution_count": 26,
   "id": "489ce17c",
   "metadata": {
    "execution": {
     "iopub.execute_input": "2022-07-25T17:24:41.268321Z",
     "iopub.status.busy": "2022-07-25T17:24:41.267598Z",
     "iopub.status.idle": "2022-07-25T17:24:41.643353Z",
     "shell.execute_reply": "2022-07-25T17:24:41.642185Z"
    },
    "papermill": {
     "duration": 0.4029,
     "end_time": "2022-07-25T17:24:41.646247",
     "exception": false,
     "start_time": "2022-07-25T17:24:41.243347",
     "status": "completed"
    },
    "tags": []
   },
   "outputs": [
    {
     "data": {
      "image/png": "[encoded data removed]",
      "text/plain": [
       "<Figure size 1152x432 with 2 Axes>"
      ]
     },
     "metadata": {
      "needs_background": "light"
     },
     "output_type": "display_data"
    }
   ],
   "source": [
    "'''\n",
    "Handleling Outliers\n",
    "'''\n",
    "\n",
    "def outliers_check(df, feature_1, feature_2, threshold):\n",
    "\n",
    "    fig, axes = plt.subplots(1, 2, figsize=(16, 6))\n",
    "    fig.suptitle(f'Outliers Before and After Handleling - {feature_1} - z = {threshold}', fontsize=20)\n",
    "    \n",
    "    sns.scatterplot(ax=axes[0], data=df, x=feature_1, y=feature_2)\n",
    "    axes[0].set_title('Before Handleling')\n",
    "    \n",
    "    mean_m2 = np.mean(df[feature_1])\n",
    "    \n",
    "    std_m2 = np.std(df[feature_1])\n",
    "        \n",
    "    df['z'] = (df[feature_1] - mean_m2)/std_m2\n",
    "    \n",
    "    df['z_filter'] = np.where(df['z'] >= threshold, 1,0)\n",
    "    \n",
    "    df.drop(df[train_data['z_filter'] == 1].index, inplace = True)\n",
    "    \n",
    "    df.drop('z', axis = 1, inplace = True)\n",
    "    df.drop('z_filter', axis = 1, inplace = True)\n",
    "    \n",
    "    sns.scatterplot(ax=axes[1], data=df, x=feature_1, y=feature_2)\n",
    "    axes[1].set_title('After Handleling')\n",
    "    plt.show()\n",
    "\n",
    "#%%\n",
    "\n",
    "outliers_check(train_data, 'Fare', 'Survived', 2)"
   ]
  },
  {
   "cell_type": "code",
   "execution_count": 27,
   "id": "b91d8720",
   "metadata": {
    "execution": {
     "iopub.execute_input": "2022-07-25T17:24:41.695629Z",
     "iopub.status.busy": "2022-07-25T17:24:41.695243Z",
     "iopub.status.idle": "2022-07-25T17:24:41.705669Z",
     "shell.execute_reply": "2022-07-25T17:24:41.704402Z"
    },
    "papermill": {
     "duration": 0.037789,
     "end_time": "2022-07-25T17:24:41.708048",
     "exception": false,
     "start_time": "2022-07-25T17:24:41.670259",
     "status": "completed"
    },
    "tags": []
   },
   "outputs": [],
   "source": [
    "'''\n",
    "Normalizing some numeric data\n",
    "'''\n",
    "\n",
    "x_number = train_data[['Fare']]\n",
    "\n",
    "min_max_scaler = preprocessing.MinMaxScaler()\n",
    "x_scaled = min_max_scaler.fit_transform(x_number)\n",
    "\n",
    "train_data[['Fare']] = x_scaled\n"
   ]
  },
  {
   "cell_type": "markdown",
   "id": "984a4c6b",
   "metadata": {
    "papermill": {
     "duration": 0.023197,
     "end_time": "2022-07-25T17:24:41.754655",
     "exception": false,
     "start_time": "2022-07-25T17:24:41.731458",
     "status": "completed"
    },
    "tags": []
   },
   "source": [
    "# Separating ID"
   ]
  },
  {
   "cell_type": "code",
   "execution_count": 28,
   "id": "9aea12a1",
   "metadata": {
    "execution": {
     "iopub.execute_input": "2022-07-25T17:24:41.804585Z",
     "iopub.status.busy": "2022-07-25T17:24:41.803918Z",
     "iopub.status.idle": "2022-07-25T17:24:41.810296Z",
     "shell.execute_reply": "2022-07-25T17:24:41.809404Z"
    },
    "papermill": {
     "duration": 0.034934,
     "end_time": "2022-07-25T17:24:41.813060",
     "exception": false,
     "start_time": "2022-07-25T17:24:41.778126",
     "status": "completed"
    },
    "tags": []
   },
   "outputs": [],
   "source": [
    "pass_id = train_data.pop('PassengerId')"
   ]
  },
  {
   "cell_type": "markdown",
   "id": "a70e4e3b",
   "metadata": {
    "papermill": {
     "duration": 0.023712,
     "end_time": "2022-07-25T17:24:41.860476",
     "exception": false,
     "start_time": "2022-07-25T17:24:41.836764",
     "status": "completed"
    },
    "tags": []
   },
   "source": [
    "# Correlation check"
   ]
  },
  {
   "cell_type": "code",
   "execution_count": 29,
   "id": "9aa7d9c8",
   "metadata": {
    "execution": {
     "iopub.execute_input": "2022-07-25T17:24:41.909999Z",
     "iopub.status.busy": "2022-07-25T17:24:41.908763Z",
     "iopub.status.idle": "2022-07-25T17:24:41.932315Z",
     "shell.execute_reply": "2022-07-25T17:24:41.930690Z"
    },
    "papermill": {
     "duration": 0.05265,
     "end_time": "2022-07-25T17:24:41.936531",
     "exception": false,
     "start_time": "2022-07-25T17:24:41.883881",
     "status": "completed"
    },
    "tags": []
   },
   "outputs": [
    {
     "name": "stdout",
     "output_type": "stream",
     "text": [
      "{'Status_Mr', 'Age_(0.34, 13.683]'}\n"
     ]
    }
   ],
   "source": [
    "def correlation(df, threshold):\n",
    "    col_corr = set()\n",
    "    corr_matrix = train_data.corr()\n",
    "    for i in range(len(corr_matrix.columns)):\n",
    "        for j in range(i):\n",
    "            if abs(corr_matrix.iloc[i, j]) > threshold:\n",
    "                colname = corr_matrix.columns[i]\n",
    "                col_corr.add(colname)\n",
    "    return col_corr\n",
    "\n",
    "\n",
    "corr_try = correlation(train_data, 0.8)\n",
    "print(corr_try)"
   ]
  },
  {
   "cell_type": "code",
   "execution_count": 30,
   "id": "d62b818f",
   "metadata": {
    "execution": {
     "iopub.execute_input": "2022-07-25T17:24:41.988780Z",
     "iopub.status.busy": "2022-07-25T17:24:41.987807Z",
     "iopub.status.idle": "2022-07-25T17:24:41.994899Z",
     "shell.execute_reply": "2022-07-25T17:24:41.993876Z"
    },
    "papermill": {
     "duration": 0.037156,
     "end_time": "2022-07-25T17:24:41.997573",
     "exception": false,
     "start_time": "2022-07-25T17:24:41.960417",
     "status": "completed"
    },
    "tags": []
   },
   "outputs": [],
   "source": [
    "'''\n",
    "We droped variables with high correlation.\n",
    "'''\n",
    "train_data.drop(corr_try, axis = 1, inplace = True)"
   ]
  },
  {
   "cell_type": "code",
   "execution_count": 31,
   "id": "f5185f07",
   "metadata": {
    "execution": {
     "iopub.execute_input": "2022-07-25T17:24:42.048562Z",
     "iopub.status.busy": "2022-07-25T17:24:42.048138Z",
     "iopub.status.idle": "2022-07-25T17:24:42.054000Z",
     "shell.execute_reply": "2022-07-25T17:24:42.052816Z"
    },
    "papermill": {
     "duration": 0.033531,
     "end_time": "2022-07-25T17:24:42.056293",
     "exception": false,
     "start_time": "2022-07-25T17:24:42.022762",
     "status": "completed"
    },
    "tags": []
   },
   "outputs": [],
   "source": [
    "train_data.rename(columns={'Age_(13.683, 26.947]': '13-27', 'Age_(26.947, 40.21]': '27-40',\n",
    "                           'Age_(40.21, 53.473]':'40-53', 'Age_(53.473, 66.737]':'53-67',\n",
    "                           'Age_(66.737, 80.0]': '67-80'}, inplace=True)"
   ]
  },
  {
   "cell_type": "code",
   "execution_count": 32,
   "id": "369f2966",
   "metadata": {
    "execution": {
     "iopub.execute_input": "2022-07-25T17:24:42.107230Z",
     "iopub.status.busy": "2022-07-25T17:24:42.106588Z",
     "iopub.status.idle": "2022-07-25T17:24:42.130643Z",
     "shell.execute_reply": "2022-07-25T17:24:42.129397Z"
    },
    "papermill": {
     "duration": 0.051862,
     "end_time": "2022-07-25T17:24:42.133264",
     "exception": false,
     "start_time": "2022-07-25T17:24:42.081402",
     "status": "completed"
    },
    "tags": []
   },
   "outputs": [
    {
     "data": {
      "text/html": [
       "<div>\n",
       "<style scoped>\n",
       "    .dataframe tbody tr th:only-of-type {\n",
       "        vertical-align: middle;\n",
       "    }\n",
       "\n",
       "    .dataframe tbody tr th {\n",
       "        vertical-align: top;\n",
       "    }\n",
       "\n",
       "    .dataframe thead th {\n",
       "        text-align: right;\n",
       "    }\n",
       "</style>\n",
       "<table border=\"1\" class=\"dataframe\">\n",
       "  <thead>\n",
       "    <tr style=\"text-align: right;\">\n",
       "      <th></th>\n",
       "      <th>Survived</th>\n",
       "      <th>Pclass</th>\n",
       "      <th>Sex</th>\n",
       "      <th>Fare</th>\n",
       "      <th>Has_cabin</th>\n",
       "      <th>Is_child</th>\n",
       "      <th>Fam_size</th>\n",
       "      <th>Solo</th>\n",
       "      <th>Status_Master</th>\n",
       "      <th>Status_Miss</th>\n",
       "      <th>...</th>\n",
       "      <th>Status_Officers</th>\n",
       "      <th>Status_Royal</th>\n",
       "      <th>Embarked_C</th>\n",
       "      <th>Embarked_Q</th>\n",
       "      <th>Embarked_S</th>\n",
       "      <th>13-27</th>\n",
       "      <th>27-40</th>\n",
       "      <th>40-53</th>\n",
       "      <th>53-67</th>\n",
       "      <th>67-80</th>\n",
       "    </tr>\n",
       "  </thead>\n",
       "  <tbody>\n",
       "    <tr>\n",
       "      <th>0</th>\n",
       "      <td>0</td>\n",
       "      <td>3</td>\n",
       "      <td>1</td>\n",
       "      <td>0.041908</td>\n",
       "      <td>0</td>\n",
       "      <td>0</td>\n",
       "      <td>1</td>\n",
       "      <td>0</td>\n",
       "      <td>0</td>\n",
       "      <td>0</td>\n",
       "      <td>...</td>\n",
       "      <td>0</td>\n",
       "      <td>0</td>\n",
       "      <td>0</td>\n",
       "      <td>0</td>\n",
       "      <td>1</td>\n",
       "      <td>1</td>\n",
       "      <td>0</td>\n",
       "      <td>0</td>\n",
       "      <td>0</td>\n",
       "      <td>0</td>\n",
       "    </tr>\n",
       "    <tr>\n",
       "      <th>1</th>\n",
       "      <td>1</td>\n",
       "      <td>1</td>\n",
       "      <td>0</td>\n",
       "      <td>0.412042</td>\n",
       "      <td>1</td>\n",
       "      <td>0</td>\n",
       "      <td>1</td>\n",
       "      <td>0</td>\n",
       "      <td>0</td>\n",
       "      <td>0</td>\n",
       "      <td>...</td>\n",
       "      <td>0</td>\n",
       "      <td>0</td>\n",
       "      <td>1</td>\n",
       "      <td>0</td>\n",
       "      <td>0</td>\n",
       "      <td>0</td>\n",
       "      <td>1</td>\n",
       "      <td>0</td>\n",
       "      <td>0</td>\n",
       "      <td>0</td>\n",
       "    </tr>\n",
       "    <tr>\n",
       "      <th>2</th>\n",
       "      <td>1</td>\n",
       "      <td>3</td>\n",
       "      <td>0</td>\n",
       "      <td>0.091618</td>\n",
       "      <td>0</td>\n",
       "      <td>0</td>\n",
       "      <td>0</td>\n",
       "      <td>1</td>\n",
       "      <td>0</td>\n",
       "      <td>1</td>\n",
       "      <td>...</td>\n",
       "      <td>0</td>\n",
       "      <td>0</td>\n",
       "      <td>0</td>\n",
       "      <td>0</td>\n",
       "      <td>1</td>\n",
       "      <td>1</td>\n",
       "      <td>0</td>\n",
       "      <td>0</td>\n",
       "      <td>0</td>\n",
       "      <td>0</td>\n",
       "    </tr>\n",
       "    <tr>\n",
       "      <th>3</th>\n",
       "      <td>1</td>\n",
       "      <td>1</td>\n",
       "      <td>0</td>\n",
       "      <td>0.306936</td>\n",
       "      <td>1</td>\n",
       "      <td>0</td>\n",
       "      <td>1</td>\n",
       "      <td>0</td>\n",
       "      <td>0</td>\n",
       "      <td>0</td>\n",
       "      <td>...</td>\n",
       "      <td>0</td>\n",
       "      <td>0</td>\n",
       "      <td>0</td>\n",
       "      <td>0</td>\n",
       "      <td>1</td>\n",
       "      <td>0</td>\n",
       "      <td>1</td>\n",
       "      <td>0</td>\n",
       "      <td>0</td>\n",
       "      <td>0</td>\n",
       "    </tr>\n",
       "    <tr>\n",
       "      <th>4</th>\n",
       "      <td>0</td>\n",
       "      <td>3</td>\n",
       "      <td>1</td>\n",
       "      <td>0.093064</td>\n",
       "      <td>0</td>\n",
       "      <td>0</td>\n",
       "      <td>0</td>\n",
       "      <td>1</td>\n",
       "      <td>0</td>\n",
       "      <td>0</td>\n",
       "      <td>...</td>\n",
       "      <td>0</td>\n",
       "      <td>0</td>\n",
       "      <td>0</td>\n",
       "      <td>0</td>\n",
       "      <td>1</td>\n",
       "      <td>0</td>\n",
       "      <td>1</td>\n",
       "      <td>0</td>\n",
       "      <td>0</td>\n",
       "      <td>0</td>\n",
       "    </tr>\n",
       "    <tr>\n",
       "      <th>...</th>\n",
       "      <td>...</td>\n",
       "      <td>...</td>\n",
       "      <td>...</td>\n",
       "      <td>...</td>\n",
       "      <td>...</td>\n",
       "      <td>...</td>\n",
       "      <td>...</td>\n",
       "      <td>...</td>\n",
       "      <td>...</td>\n",
       "      <td>...</td>\n",
       "      <td>...</td>\n",
       "      <td>...</td>\n",
       "      <td>...</td>\n",
       "      <td>...</td>\n",
       "      <td>...</td>\n",
       "      <td>...</td>\n",
       "      <td>...</td>\n",
       "      <td>...</td>\n",
       "      <td>...</td>\n",
       "      <td>...</td>\n",
       "      <td>...</td>\n",
       "    </tr>\n",
       "    <tr>\n",
       "      <th>886</th>\n",
       "      <td>0</td>\n",
       "      <td>2</td>\n",
       "      <td>1</td>\n",
       "      <td>0.150289</td>\n",
       "      <td>0</td>\n",
       "      <td>0</td>\n",
       "      <td>0</td>\n",
       "      <td>1</td>\n",
       "      <td>0</td>\n",
       "      <td>0</td>\n",
       "      <td>...</td>\n",
       "      <td>1</td>\n",
       "      <td>0</td>\n",
       "      <td>0</td>\n",
       "      <td>0</td>\n",
       "      <td>1</td>\n",
       "      <td>0</td>\n",
       "      <td>1</td>\n",
       "      <td>0</td>\n",
       "      <td>0</td>\n",
       "      <td>0</td>\n",
       "    </tr>\n",
       "    <tr>\n",
       "      <th>887</th>\n",
       "      <td>1</td>\n",
       "      <td>1</td>\n",
       "      <td>0</td>\n",
       "      <td>0.346821</td>\n",
       "      <td>1</td>\n",
       "      <td>0</td>\n",
       "      <td>0</td>\n",
       "      <td>1</td>\n",
       "      <td>0</td>\n",
       "      <td>1</td>\n",
       "      <td>...</td>\n",
       "      <td>0</td>\n",
       "      <td>0</td>\n",
       "      <td>0</td>\n",
       "      <td>0</td>\n",
       "      <td>1</td>\n",
       "      <td>1</td>\n",
       "      <td>0</td>\n",
       "      <td>0</td>\n",
       "      <td>0</td>\n",
       "      <td>0</td>\n",
       "    </tr>\n",
       "    <tr>\n",
       "      <th>888</th>\n",
       "      <td>0</td>\n",
       "      <td>3</td>\n",
       "      <td>0</td>\n",
       "      <td>0.067775</td>\n",
       "      <td>0</td>\n",
       "      <td>0</td>\n",
       "      <td>3</td>\n",
       "      <td>0</td>\n",
       "      <td>0</td>\n",
       "      <td>1</td>\n",
       "      <td>...</td>\n",
       "      <td>0</td>\n",
       "      <td>0</td>\n",
       "      <td>0</td>\n",
       "      <td>0</td>\n",
       "      <td>1</td>\n",
       "      <td>1</td>\n",
       "      <td>0</td>\n",
       "      <td>0</td>\n",
       "      <td>0</td>\n",
       "      <td>0</td>\n",
       "    </tr>\n",
       "    <tr>\n",
       "      <th>889</th>\n",
       "      <td>1</td>\n",
       "      <td>1</td>\n",
       "      <td>1</td>\n",
       "      <td>0.346821</td>\n",
       "      <td>1</td>\n",
       "      <td>0</td>\n",
       "      <td>0</td>\n",
       "      <td>1</td>\n",
       "      <td>0</td>\n",
       "      <td>0</td>\n",
       "      <td>...</td>\n",
       "      <td>0</td>\n",
       "      <td>0</td>\n",
       "      <td>1</td>\n",
       "      <td>0</td>\n",
       "      <td>0</td>\n",
       "      <td>1</td>\n",
       "      <td>0</td>\n",
       "      <td>0</td>\n",
       "      <td>0</td>\n",
       "      <td>0</td>\n",
       "    </tr>\n",
       "    <tr>\n",
       "      <th>890</th>\n",
       "      <td>0</td>\n",
       "      <td>3</td>\n",
       "      <td>1</td>\n",
       "      <td>0.089595</td>\n",
       "      <td>0</td>\n",
       "      <td>0</td>\n",
       "      <td>0</td>\n",
       "      <td>1</td>\n",
       "      <td>0</td>\n",
       "      <td>0</td>\n",
       "      <td>...</td>\n",
       "      <td>0</td>\n",
       "      <td>0</td>\n",
       "      <td>0</td>\n",
       "      <td>1</td>\n",
       "      <td>0</td>\n",
       "      <td>0</td>\n",
       "      <td>1</td>\n",
       "      <td>0</td>\n",
       "      <td>0</td>\n",
       "      <td>0</td>\n",
       "    </tr>\n",
       "  </tbody>\n",
       "</table>\n",
       "<p>868 rows × 21 columns</p>\n",
       "</div>"
      ],
      "text/plain": [
       "     Survived  Pclass  Sex      Fare  Has_cabin  Is_child  Fam_size  Solo  \\\n",
       "0           0       3    1  0.041908          0         0         1     0   \n",
       "1           1       1    0  0.412042          1         0         1     0   \n",
       "2           1       3    0  0.091618          0         0         0     1   \n",
       "3           1       1    0  0.306936          1         0         1     0   \n",
       "4           0       3    1  0.093064          0         0         0     1   \n",
       "..        ...     ...  ...       ...        ...       ...       ...   ...   \n",
       "886         0       2    1  0.150289          0         0         0     1   \n",
       "887         1       1    0  0.346821          1         0         0     1   \n",
       "888         0       3    0  0.067775          0         0         3     0   \n",
       "889         1       1    1  0.346821          1         0         0     1   \n",
       "890         0       3    1  0.089595          0         0         0     1   \n",
       "\n",
       "     Status_Master  Status_Miss  ...  Status_Officers  Status_Royal  \\\n",
       "0                0            0  ...                0             0   \n",
       "1                0            0  ...                0             0   \n",
       "2                0            1  ...                0             0   \n",
       "3                0            0  ...                0             0   \n",
       "4                0            0  ...                0             0   \n",
       "..             ...          ...  ...              ...           ...   \n",
       "886              0            0  ...                1             0   \n",
       "887              0            1  ...                0             0   \n",
       "888              0            1  ...                0             0   \n",
       "889              0            0  ...                0             0   \n",
       "890              0            0  ...                0             0   \n",
       "\n",
       "     Embarked_C  Embarked_Q  Embarked_S  13-27  27-40  40-53  53-67  67-80  \n",
       "0             0           0           1      1      0      0      0      0  \n",
       "1             1           0           0      0      1      0      0      0  \n",
       "2             0           0           1      1      0      0      0      0  \n",
       "3             0           0           1      0      1      0      0      0  \n",
       "4             0           0           1      0      1      0      0      0  \n",
       "..          ...         ...         ...    ...    ...    ...    ...    ...  \n",
       "886           0           0           1      0      1      0      0      0  \n",
       "887           0           0           1      1      0      0      0      0  \n",
       "888           0           0           1      1      0      0      0      0  \n",
       "889           1           0           0      1      0      0      0      0  \n",
       "890           0           1           0      0      1      0      0      0  \n",
       "\n",
       "[868 rows x 21 columns]"
      ]
     },
     "execution_count": 32,
     "metadata": {},
     "output_type": "execute_result"
    }
   ],
   "source": [
    "train_data"
   ]
  },
  {
   "cell_type": "markdown",
   "id": "be9f2bf4",
   "metadata": {
    "papermill": {
     "duration": 0.023611,
     "end_time": "2022-07-25T17:24:42.181186",
     "exception": false,
     "start_time": "2022-07-25T17:24:42.157575",
     "status": "completed"
    },
    "tags": []
   },
   "source": [
    "# Train & Test split"
   ]
  },
  {
   "cell_type": "code",
   "execution_count": 33,
   "id": "364e7604",
   "metadata": {
    "execution": {
     "iopub.execute_input": "2022-07-25T17:24:42.230887Z",
     "iopub.status.busy": "2022-07-25T17:24:42.230479Z",
     "iopub.status.idle": "2022-07-25T17:24:42.238706Z",
     "shell.execute_reply": "2022-07-25T17:24:42.237768Z"
    },
    "papermill": {
     "duration": 0.035728,
     "end_time": "2022-07-25T17:24:42.240935",
     "exception": false,
     "start_time": "2022-07-25T17:24:42.205207",
     "status": "completed"
    },
    "tags": []
   },
   "outputs": [],
   "source": [
    "target = train_data.pop('Survived')\n",
    "\n",
    "X_train, X_test, y_train, y_test = train_test_split(train_data, target, test_size = 0.2, random_state = 22)"
   ]
  },
  {
   "cell_type": "code",
   "execution_count": 34,
   "id": "78011676",
   "metadata": {
    "execution": {
     "iopub.execute_input": "2022-07-25T17:24:42.317844Z",
     "iopub.status.busy": "2022-07-25T17:24:42.316880Z",
     "iopub.status.idle": "2022-07-25T17:24:42.340552Z",
     "shell.execute_reply": "2022-07-25T17:24:42.339616Z"
    },
    "papermill": {
     "duration": 0.077473,
     "end_time": "2022-07-25T17:24:42.342752",
     "exception": false,
     "start_time": "2022-07-25T17:24:42.265279",
     "status": "completed"
    },
    "tags": []
   },
   "outputs": [
    {
     "data": {
      "text/html": [
       "<div>\n",
       "<style scoped>\n",
       "    .dataframe tbody tr th:only-of-type {\n",
       "        vertical-align: middle;\n",
       "    }\n",
       "\n",
       "    .dataframe tbody tr th {\n",
       "        vertical-align: top;\n",
       "    }\n",
       "\n",
       "    .dataframe thead th {\n",
       "        text-align: right;\n",
       "    }\n",
       "</style>\n",
       "<table border=\"1\" class=\"dataframe\">\n",
       "  <thead>\n",
       "    <tr style=\"text-align: right;\">\n",
       "      <th></th>\n",
       "      <th>Pclass</th>\n",
       "      <th>Sex</th>\n",
       "      <th>Fare</th>\n",
       "      <th>Has_cabin</th>\n",
       "      <th>Is_child</th>\n",
       "      <th>Fam_size</th>\n",
       "      <th>Solo</th>\n",
       "      <th>Status_Master</th>\n",
       "      <th>Status_Miss</th>\n",
       "      <th>Status_Mrs</th>\n",
       "      <th>Status_Officers</th>\n",
       "      <th>Status_Royal</th>\n",
       "      <th>Embarked_C</th>\n",
       "      <th>Embarked_Q</th>\n",
       "      <th>Embarked_S</th>\n",
       "      <th>13-27</th>\n",
       "      <th>27-40</th>\n",
       "      <th>40-53</th>\n",
       "      <th>53-67</th>\n",
       "      <th>67-80</th>\n",
       "    </tr>\n",
       "  </thead>\n",
       "  <tbody>\n",
       "    <tr>\n",
       "      <th>617</th>\n",
       "      <td>3</td>\n",
       "      <td>0</td>\n",
       "      <td>0.093064</td>\n",
       "      <td>0</td>\n",
       "      <td>0</td>\n",
       "      <td>1</td>\n",
       "      <td>0</td>\n",
       "      <td>0</td>\n",
       "      <td>0</td>\n",
       "      <td>1</td>\n",
       "      <td>0</td>\n",
       "      <td>0</td>\n",
       "      <td>0</td>\n",
       "      <td>0</td>\n",
       "      <td>1</td>\n",
       "      <td>1</td>\n",
       "      <td>0</td>\n",
       "      <td>0</td>\n",
       "      <td>0</td>\n",
       "      <td>0</td>\n",
       "    </tr>\n",
       "    <tr>\n",
       "      <th>40</th>\n",
       "      <td>3</td>\n",
       "      <td>0</td>\n",
       "      <td>0.054769</td>\n",
       "      <td>0</td>\n",
       "      <td>0</td>\n",
       "      <td>1</td>\n",
       "      <td>0</td>\n",
       "      <td>0</td>\n",
       "      <td>0</td>\n",
       "      <td>1</td>\n",
       "      <td>0</td>\n",
       "      <td>0</td>\n",
       "      <td>0</td>\n",
       "      <td>0</td>\n",
       "      <td>1</td>\n",
       "      <td>0</td>\n",
       "      <td>1</td>\n",
       "      <td>0</td>\n",
       "      <td>0</td>\n",
       "      <td>0</td>\n",
       "    </tr>\n",
       "    <tr>\n",
       "      <th>410</th>\n",
       "      <td>3</td>\n",
       "      <td>1</td>\n",
       "      <td>0.091281</td>\n",
       "      <td>0</td>\n",
       "      <td>0</td>\n",
       "      <td>0</td>\n",
       "      <td>1</td>\n",
       "      <td>0</td>\n",
       "      <td>0</td>\n",
       "      <td>0</td>\n",
       "      <td>0</td>\n",
       "      <td>0</td>\n",
       "      <td>0</td>\n",
       "      <td>0</td>\n",
       "      <td>1</td>\n",
       "      <td>0</td>\n",
       "      <td>1</td>\n",
       "      <td>0</td>\n",
       "      <td>0</td>\n",
       "      <td>0</td>\n",
       "    </tr>\n",
       "    <tr>\n",
       "      <th>830</th>\n",
       "      <td>3</td>\n",
       "      <td>0</td>\n",
       "      <td>0.083550</td>\n",
       "      <td>0</td>\n",
       "      <td>0</td>\n",
       "      <td>1</td>\n",
       "      <td>0</td>\n",
       "      <td>0</td>\n",
       "      <td>0</td>\n",
       "      <td>1</td>\n",
       "      <td>0</td>\n",
       "      <td>0</td>\n",
       "      <td>1</td>\n",
       "      <td>0</td>\n",
       "      <td>0</td>\n",
       "      <td>1</td>\n",
       "      <td>0</td>\n",
       "      <td>0</td>\n",
       "      <td>0</td>\n",
       "      <td>0</td>\n",
       "    </tr>\n",
       "    <tr>\n",
       "      <th>521</th>\n",
       "      <td>3</td>\n",
       "      <td>1</td>\n",
       "      <td>0.091281</td>\n",
       "      <td>0</td>\n",
       "      <td>0</td>\n",
       "      <td>0</td>\n",
       "      <td>1</td>\n",
       "      <td>0</td>\n",
       "      <td>0</td>\n",
       "      <td>0</td>\n",
       "      <td>0</td>\n",
       "      <td>0</td>\n",
       "      <td>0</td>\n",
       "      <td>0</td>\n",
       "      <td>1</td>\n",
       "      <td>1</td>\n",
       "      <td>0</td>\n",
       "      <td>0</td>\n",
       "      <td>0</td>\n",
       "      <td>0</td>\n",
       "    </tr>\n",
       "    <tr>\n",
       "      <th>...</th>\n",
       "      <td>...</td>\n",
       "      <td>...</td>\n",
       "      <td>...</td>\n",
       "      <td>...</td>\n",
       "      <td>...</td>\n",
       "      <td>...</td>\n",
       "      <td>...</td>\n",
       "      <td>...</td>\n",
       "      <td>...</td>\n",
       "      <td>...</td>\n",
       "      <td>...</td>\n",
       "      <td>...</td>\n",
       "      <td>...</td>\n",
       "      <td>...</td>\n",
       "      <td>...</td>\n",
       "      <td>...</td>\n",
       "      <td>...</td>\n",
       "      <td>...</td>\n",
       "      <td>...</td>\n",
       "      <td>...</td>\n",
       "    </tr>\n",
       "    <tr>\n",
       "      <th>512</th>\n",
       "      <td>1</td>\n",
       "      <td>1</td>\n",
       "      <td>0.303902</td>\n",
       "      <td>1</td>\n",
       "      <td>0</td>\n",
       "      <td>0</td>\n",
       "      <td>1</td>\n",
       "      <td>0</td>\n",
       "      <td>0</td>\n",
       "      <td>0</td>\n",
       "      <td>0</td>\n",
       "      <td>0</td>\n",
       "      <td>0</td>\n",
       "      <td>0</td>\n",
       "      <td>1</td>\n",
       "      <td>0</td>\n",
       "      <td>1</td>\n",
       "      <td>0</td>\n",
       "      <td>0</td>\n",
       "      <td>0</td>\n",
       "    </tr>\n",
       "    <tr>\n",
       "      <th>366</th>\n",
       "      <td>1</td>\n",
       "      <td>0</td>\n",
       "      <td>0.434971</td>\n",
       "      <td>1</td>\n",
       "      <td>0</td>\n",
       "      <td>1</td>\n",
       "      <td>0</td>\n",
       "      <td>0</td>\n",
       "      <td>0</td>\n",
       "      <td>1</td>\n",
       "      <td>0</td>\n",
       "      <td>0</td>\n",
       "      <td>1</td>\n",
       "      <td>0</td>\n",
       "      <td>0</td>\n",
       "      <td>0</td>\n",
       "      <td>0</td>\n",
       "      <td>0</td>\n",
       "      <td>1</td>\n",
       "      <td>0</td>\n",
       "    </tr>\n",
       "    <tr>\n",
       "      <th>364</th>\n",
       "      <td>3</td>\n",
       "      <td>1</td>\n",
       "      <td>0.089595</td>\n",
       "      <td>0</td>\n",
       "      <td>0</td>\n",
       "      <td>1</td>\n",
       "      <td>0</td>\n",
       "      <td>0</td>\n",
       "      <td>0</td>\n",
       "      <td>0</td>\n",
       "      <td>0</td>\n",
       "      <td>0</td>\n",
       "      <td>0</td>\n",
       "      <td>1</td>\n",
       "      <td>0</td>\n",
       "      <td>0</td>\n",
       "      <td>1</td>\n",
       "      <td>0</td>\n",
       "      <td>0</td>\n",
       "      <td>0</td>\n",
       "    </tr>\n",
       "    <tr>\n",
       "      <th>835</th>\n",
       "      <td>1</td>\n",
       "      <td>0</td>\n",
       "      <td>0.320456</td>\n",
       "      <td>1</td>\n",
       "      <td>0</td>\n",
       "      <td>2</td>\n",
       "      <td>0</td>\n",
       "      <td>0</td>\n",
       "      <td>1</td>\n",
       "      <td>0</td>\n",
       "      <td>0</td>\n",
       "      <td>0</td>\n",
       "      <td>1</td>\n",
       "      <td>0</td>\n",
       "      <td>0</td>\n",
       "      <td>0</td>\n",
       "      <td>1</td>\n",
       "      <td>0</td>\n",
       "      <td>0</td>\n",
       "      <td>0</td>\n",
       "    </tr>\n",
       "    <tr>\n",
       "      <th>133</th>\n",
       "      <td>2</td>\n",
       "      <td>0</td>\n",
       "      <td>0.150289</td>\n",
       "      <td>0</td>\n",
       "      <td>0</td>\n",
       "      <td>1</td>\n",
       "      <td>0</td>\n",
       "      <td>0</td>\n",
       "      <td>0</td>\n",
       "      <td>1</td>\n",
       "      <td>0</td>\n",
       "      <td>0</td>\n",
       "      <td>0</td>\n",
       "      <td>0</td>\n",
       "      <td>1</td>\n",
       "      <td>0</td>\n",
       "      <td>1</td>\n",
       "      <td>0</td>\n",
       "      <td>0</td>\n",
       "      <td>0</td>\n",
       "    </tr>\n",
       "  </tbody>\n",
       "</table>\n",
       "<p>694 rows × 20 columns</p>\n",
       "</div>"
      ],
      "text/plain": [
       "     Pclass  Sex      Fare  Has_cabin  Is_child  Fam_size  Solo  \\\n",
       "617       3    0  0.093064          0         0         1     0   \n",
       "40        3    0  0.054769          0         0         1     0   \n",
       "410       3    1  0.091281          0         0         0     1   \n",
       "830       3    0  0.083550          0         0         1     0   \n",
       "521       3    1  0.091281          0         0         0     1   \n",
       "..      ...  ...       ...        ...       ...       ...   ...   \n",
       "512       1    1  0.303902          1         0         0     1   \n",
       "366       1    0  0.434971          1         0         1     0   \n",
       "364       3    1  0.089595          0         0         1     0   \n",
       "835       1    0  0.320456          1         0         2     0   \n",
       "133       2    0  0.150289          0         0         1     0   \n",
       "\n",
       "     Status_Master  Status_Miss  Status_Mrs  Status_Officers  Status_Royal  \\\n",
       "617              0            0           1                0             0   \n",
       "40               0            0           1                0             0   \n",
       "410              0            0           0                0             0   \n",
       "830              0            0           1                0             0   \n",
       "521              0            0           0                0             0   \n",
       "..             ...          ...         ...              ...           ...   \n",
       "512              0            0           0                0             0   \n",
       "366              0            0           1                0             0   \n",
       "364              0            0           0                0             0   \n",
       "835              0            1           0                0             0   \n",
       "133              0            0           1                0             0   \n",
       "\n",
       "     Embarked_C  Embarked_Q  Embarked_S  13-27  27-40  40-53  53-67  67-80  \n",
       "617           0           0           1      1      0      0      0      0  \n",
       "40            0           0           1      0      1      0      0      0  \n",
       "410           0           0           1      0      1      0      0      0  \n",
       "830           1           0           0      1      0      0      0      0  \n",
       "521           0           0           1      1      0      0      0      0  \n",
       "..          ...         ...         ...    ...    ...    ...    ...    ...  \n",
       "512           0           0           1      0      1      0      0      0  \n",
       "366           1           0           0      0      0      0      1      0  \n",
       "364           0           1           0      0      1      0      0      0  \n",
       "835           1           0           0      0      1      0      0      0  \n",
       "133           0           0           1      0      1      0      0      0  \n",
       "\n",
       "[694 rows x 20 columns]"
      ]
     },
     "execution_count": 34,
     "metadata": {},
     "output_type": "execute_result"
    }
   ],
   "source": [
    "X_train"
   ]
  },
  {
   "cell_type": "code",
   "execution_count": 35,
   "id": "c6f7b6a7",
   "metadata": {
    "execution": {
     "iopub.execute_input": "2022-07-25T17:24:42.394878Z",
     "iopub.status.busy": "2022-07-25T17:24:42.394111Z",
     "iopub.status.idle": "2022-07-25T17:24:42.402770Z",
     "shell.execute_reply": "2022-07-25T17:24:42.401720Z"
    },
    "papermill": {
     "duration": 0.037129,
     "end_time": "2022-07-25T17:24:42.405011",
     "exception": false,
     "start_time": "2022-07-25T17:24:42.367882",
     "status": "completed"
    },
    "tags": []
   },
   "outputs": [
    {
     "data": {
      "text/plain": [
       "617    0\n",
       "40     0\n",
       "410    0\n",
       "830    1\n",
       "521    0\n",
       "      ..\n",
       "512    1\n",
       "366    1\n",
       "364    0\n",
       "835    1\n",
       "133    1\n",
       "Name: Survived, Length: 694, dtype: int64"
      ]
     },
     "execution_count": 35,
     "metadata": {},
     "output_type": "execute_result"
    }
   ],
   "source": [
    "y_train"
   ]
  },
  {
   "cell_type": "markdown",
   "id": "e1e06894",
   "metadata": {
    "papermill": {
     "duration": 0.024661,
     "end_time": "2022-07-25T17:24:42.454568",
     "exception": false,
     "start_time": "2022-07-25T17:24:42.429907",
     "status": "completed"
    },
    "tags": []
   },
   "source": [
    "# Balancing the Data"
   ]
  },
  {
   "cell_type": "code",
   "execution_count": 36,
   "id": "443a0c9b",
   "metadata": {
    "execution": {
     "iopub.execute_input": "2022-07-25T17:24:42.508023Z",
     "iopub.status.busy": "2022-07-25T17:24:42.507668Z",
     "iopub.status.idle": "2022-07-25T17:24:42.523532Z",
     "shell.execute_reply": "2022-07-25T17:24:42.522596Z"
    },
    "papermill": {
     "duration": 0.046991,
     "end_time": "2022-07-25T17:24:42.526187",
     "exception": false,
     "start_time": "2022-07-25T17:24:42.479196",
     "status": "completed"
    },
    "tags": []
   },
   "outputs": [],
   "source": [
    "def undersampling(X_train, y_train, plus=1):\n",
    "\n",
    "    X_train['y'] = y_train\n",
    "    \n",
    "    minor = X_train[X_train['y']==1]\n",
    "    other = X_train[X_train['y']==0]\n",
    "    other = other.sample(n=int(len(minor)*plus), random_state=22)\n",
    "    X_train = (pd.concat([minor,other],axis=0)).sample(frac=1)\n",
    "    \n",
    "    y_train = X_train['y']\n",
    "    X_train.drop('y', axis=1,inplace=True)\n",
    "\n",
    "    return X_train, y_train\n",
    "\n",
    "\n",
    "X_train, y_train = undersampling(X_train, y_train, 1.1)"
   ]
  },
  {
   "cell_type": "code",
   "execution_count": 37,
   "id": "b24ca27e",
   "metadata": {
    "execution": {
     "iopub.execute_input": "2022-07-25T17:24:42.579711Z",
     "iopub.status.busy": "2022-07-25T17:24:42.579079Z",
     "iopub.status.idle": "2022-07-25T17:24:42.586187Z",
     "shell.execute_reply": "2022-07-25T17:24:42.585042Z"
    },
    "papermill": {
     "duration": 0.03606,
     "end_time": "2022-07-25T17:24:42.588693",
     "exception": false,
     "start_time": "2022-07-25T17:24:42.552633",
     "status": "completed"
    },
    "tags": []
   },
   "outputs": [
    {
     "name": "stdout",
     "output_type": "stream",
     "text": [
      "0    281\n",
      "1    256\n",
      "Name: y, dtype: int64\n"
     ]
    }
   ],
   "source": [
    "print(y_train.value_counts())"
   ]
  },
  {
   "cell_type": "code",
   "execution_count": 38,
   "id": "9d5e1c90",
   "metadata": {
    "execution": {
     "iopub.execute_input": "2022-07-25T17:24:42.640387Z",
     "iopub.status.busy": "2022-07-25T17:24:42.639753Z",
     "iopub.status.idle": "2022-07-25T17:24:42.662740Z",
     "shell.execute_reply": "2022-07-25T17:24:42.661577Z"
    },
    "papermill": {
     "duration": 0.051602,
     "end_time": "2022-07-25T17:24:42.665131",
     "exception": false,
     "start_time": "2022-07-25T17:24:42.613529",
     "status": "completed"
    },
    "tags": []
   },
   "outputs": [
    {
     "data": {
      "text/html": [
       "<div>\n",
       "<style scoped>\n",
       "    .dataframe tbody tr th:only-of-type {\n",
       "        vertical-align: middle;\n",
       "    }\n",
       "\n",
       "    .dataframe tbody tr th {\n",
       "        vertical-align: top;\n",
       "    }\n",
       "\n",
       "    .dataframe thead th {\n",
       "        text-align: right;\n",
       "    }\n",
       "</style>\n",
       "<table border=\"1\" class=\"dataframe\">\n",
       "  <thead>\n",
       "    <tr style=\"text-align: right;\">\n",
       "      <th></th>\n",
       "      <th>Pclass</th>\n",
       "      <th>Sex</th>\n",
       "      <th>Fare</th>\n",
       "      <th>Has_cabin</th>\n",
       "      <th>Is_child</th>\n",
       "      <th>Fam_size</th>\n",
       "      <th>Solo</th>\n",
       "      <th>Status_Master</th>\n",
       "      <th>Status_Miss</th>\n",
       "      <th>Status_Mrs</th>\n",
       "      <th>Status_Officers</th>\n",
       "      <th>Status_Royal</th>\n",
       "      <th>Embarked_C</th>\n",
       "      <th>Embarked_Q</th>\n",
       "      <th>Embarked_S</th>\n",
       "      <th>13-27</th>\n",
       "      <th>27-40</th>\n",
       "      <th>40-53</th>\n",
       "      <th>53-67</th>\n",
       "      <th>67-80</th>\n",
       "    </tr>\n",
       "  </thead>\n",
       "  <tbody>\n",
       "    <tr>\n",
       "      <th>0</th>\n",
       "      <td>3</td>\n",
       "      <td>1</td>\n",
       "      <td>0.041908</td>\n",
       "      <td>0</td>\n",
       "      <td>0</td>\n",
       "      <td>1</td>\n",
       "      <td>0</td>\n",
       "      <td>0</td>\n",
       "      <td>0</td>\n",
       "      <td>0</td>\n",
       "      <td>0</td>\n",
       "      <td>0</td>\n",
       "      <td>0</td>\n",
       "      <td>0</td>\n",
       "      <td>1</td>\n",
       "      <td>1</td>\n",
       "      <td>0</td>\n",
       "      <td>0</td>\n",
       "      <td>0</td>\n",
       "      <td>0</td>\n",
       "    </tr>\n",
       "    <tr>\n",
       "      <th>1</th>\n",
       "      <td>1</td>\n",
       "      <td>0</td>\n",
       "      <td>0.412042</td>\n",
       "      <td>1</td>\n",
       "      <td>0</td>\n",
       "      <td>1</td>\n",
       "      <td>0</td>\n",
       "      <td>0</td>\n",
       "      <td>0</td>\n",
       "      <td>1</td>\n",
       "      <td>0</td>\n",
       "      <td>0</td>\n",
       "      <td>1</td>\n",
       "      <td>0</td>\n",
       "      <td>0</td>\n",
       "      <td>0</td>\n",
       "      <td>1</td>\n",
       "      <td>0</td>\n",
       "      <td>0</td>\n",
       "      <td>0</td>\n",
       "    </tr>\n",
       "    <tr>\n",
       "      <th>2</th>\n",
       "      <td>3</td>\n",
       "      <td>0</td>\n",
       "      <td>0.091618</td>\n",
       "      <td>0</td>\n",
       "      <td>0</td>\n",
       "      <td>0</td>\n",
       "      <td>1</td>\n",
       "      <td>0</td>\n",
       "      <td>1</td>\n",
       "      <td>0</td>\n",
       "      <td>0</td>\n",
       "      <td>0</td>\n",
       "      <td>0</td>\n",
       "      <td>0</td>\n",
       "      <td>1</td>\n",
       "      <td>1</td>\n",
       "      <td>0</td>\n",
       "      <td>0</td>\n",
       "      <td>0</td>\n",
       "      <td>0</td>\n",
       "    </tr>\n",
       "    <tr>\n",
       "      <th>3</th>\n",
       "      <td>1</td>\n",
       "      <td>0</td>\n",
       "      <td>0.306936</td>\n",
       "      <td>1</td>\n",
       "      <td>0</td>\n",
       "      <td>1</td>\n",
       "      <td>0</td>\n",
       "      <td>0</td>\n",
       "      <td>0</td>\n",
       "      <td>1</td>\n",
       "      <td>0</td>\n",
       "      <td>0</td>\n",
       "      <td>0</td>\n",
       "      <td>0</td>\n",
       "      <td>1</td>\n",
       "      <td>0</td>\n",
       "      <td>1</td>\n",
       "      <td>0</td>\n",
       "      <td>0</td>\n",
       "      <td>0</td>\n",
       "    </tr>\n",
       "    <tr>\n",
       "      <th>4</th>\n",
       "      <td>3</td>\n",
       "      <td>1</td>\n",
       "      <td>0.093064</td>\n",
       "      <td>0</td>\n",
       "      <td>0</td>\n",
       "      <td>0</td>\n",
       "      <td>1</td>\n",
       "      <td>0</td>\n",
       "      <td>0</td>\n",
       "      <td>0</td>\n",
       "      <td>0</td>\n",
       "      <td>0</td>\n",
       "      <td>0</td>\n",
       "      <td>0</td>\n",
       "      <td>1</td>\n",
       "      <td>0</td>\n",
       "      <td>1</td>\n",
       "      <td>0</td>\n",
       "      <td>0</td>\n",
       "      <td>0</td>\n",
       "    </tr>\n",
       "    <tr>\n",
       "      <th>...</th>\n",
       "      <td>...</td>\n",
       "      <td>...</td>\n",
       "      <td>...</td>\n",
       "      <td>...</td>\n",
       "      <td>...</td>\n",
       "      <td>...</td>\n",
       "      <td>...</td>\n",
       "      <td>...</td>\n",
       "      <td>...</td>\n",
       "      <td>...</td>\n",
       "      <td>...</td>\n",
       "      <td>...</td>\n",
       "      <td>...</td>\n",
       "      <td>...</td>\n",
       "      <td>...</td>\n",
       "      <td>...</td>\n",
       "      <td>...</td>\n",
       "      <td>...</td>\n",
       "      <td>...</td>\n",
       "      <td>...</td>\n",
       "    </tr>\n",
       "    <tr>\n",
       "      <th>886</th>\n",
       "      <td>2</td>\n",
       "      <td>1</td>\n",
       "      <td>0.150289</td>\n",
       "      <td>0</td>\n",
       "      <td>0</td>\n",
       "      <td>0</td>\n",
       "      <td>1</td>\n",
       "      <td>0</td>\n",
       "      <td>0</td>\n",
       "      <td>0</td>\n",
       "      <td>1</td>\n",
       "      <td>0</td>\n",
       "      <td>0</td>\n",
       "      <td>0</td>\n",
       "      <td>1</td>\n",
       "      <td>0</td>\n",
       "      <td>1</td>\n",
       "      <td>0</td>\n",
       "      <td>0</td>\n",
       "      <td>0</td>\n",
       "    </tr>\n",
       "    <tr>\n",
       "      <th>887</th>\n",
       "      <td>1</td>\n",
       "      <td>0</td>\n",
       "      <td>0.346821</td>\n",
       "      <td>1</td>\n",
       "      <td>0</td>\n",
       "      <td>0</td>\n",
       "      <td>1</td>\n",
       "      <td>0</td>\n",
       "      <td>1</td>\n",
       "      <td>0</td>\n",
       "      <td>0</td>\n",
       "      <td>0</td>\n",
       "      <td>0</td>\n",
       "      <td>0</td>\n",
       "      <td>1</td>\n",
       "      <td>1</td>\n",
       "      <td>0</td>\n",
       "      <td>0</td>\n",
       "      <td>0</td>\n",
       "      <td>0</td>\n",
       "    </tr>\n",
       "    <tr>\n",
       "      <th>888</th>\n",
       "      <td>3</td>\n",
       "      <td>0</td>\n",
       "      <td>0.067775</td>\n",
       "      <td>0</td>\n",
       "      <td>0</td>\n",
       "      <td>3</td>\n",
       "      <td>0</td>\n",
       "      <td>0</td>\n",
       "      <td>1</td>\n",
       "      <td>0</td>\n",
       "      <td>0</td>\n",
       "      <td>0</td>\n",
       "      <td>0</td>\n",
       "      <td>0</td>\n",
       "      <td>1</td>\n",
       "      <td>1</td>\n",
       "      <td>0</td>\n",
       "      <td>0</td>\n",
       "      <td>0</td>\n",
       "      <td>0</td>\n",
       "    </tr>\n",
       "    <tr>\n",
       "      <th>889</th>\n",
       "      <td>1</td>\n",
       "      <td>1</td>\n",
       "      <td>0.346821</td>\n",
       "      <td>1</td>\n",
       "      <td>0</td>\n",
       "      <td>0</td>\n",
       "      <td>1</td>\n",
       "      <td>0</td>\n",
       "      <td>0</td>\n",
       "      <td>0</td>\n",
       "      <td>0</td>\n",
       "      <td>0</td>\n",
       "      <td>1</td>\n",
       "      <td>0</td>\n",
       "      <td>0</td>\n",
       "      <td>1</td>\n",
       "      <td>0</td>\n",
       "      <td>0</td>\n",
       "      <td>0</td>\n",
       "      <td>0</td>\n",
       "    </tr>\n",
       "    <tr>\n",
       "      <th>890</th>\n",
       "      <td>3</td>\n",
       "      <td>1</td>\n",
       "      <td>0.089595</td>\n",
       "      <td>0</td>\n",
       "      <td>0</td>\n",
       "      <td>0</td>\n",
       "      <td>1</td>\n",
       "      <td>0</td>\n",
       "      <td>0</td>\n",
       "      <td>0</td>\n",
       "      <td>0</td>\n",
       "      <td>0</td>\n",
       "      <td>0</td>\n",
       "      <td>1</td>\n",
       "      <td>0</td>\n",
       "      <td>0</td>\n",
       "      <td>1</td>\n",
       "      <td>0</td>\n",
       "      <td>0</td>\n",
       "      <td>0</td>\n",
       "    </tr>\n",
       "  </tbody>\n",
       "</table>\n",
       "<p>868 rows × 20 columns</p>\n",
       "</div>"
      ],
      "text/plain": [
       "     Pclass  Sex      Fare  Has_cabin  Is_child  Fam_size  Solo  \\\n",
       "0         3    1  0.041908          0         0         1     0   \n",
       "1         1    0  0.412042          1         0         1     0   \n",
       "2         3    0  0.091618          0         0         0     1   \n",
       "3         1    0  0.306936          1         0         1     0   \n",
       "4         3    1  0.093064          0         0         0     1   \n",
       "..      ...  ...       ...        ...       ...       ...   ...   \n",
       "886       2    1  0.150289          0         0         0     1   \n",
       "887       1    0  0.346821          1         0         0     1   \n",
       "888       3    0  0.067775          0         0         3     0   \n",
       "889       1    1  0.346821          1         0         0     1   \n",
       "890       3    1  0.089595          0         0         0     1   \n",
       "\n",
       "     Status_Master  Status_Miss  Status_Mrs  Status_Officers  Status_Royal  \\\n",
       "0                0            0           0                0             0   \n",
       "1                0            0           1                0             0   \n",
       "2                0            1           0                0             0   \n",
       "3                0            0           1                0             0   \n",
       "4                0            0           0                0             0   \n",
       "..             ...          ...         ...              ...           ...   \n",
       "886              0            0           0                1             0   \n",
       "887              0            1           0                0             0   \n",
       "888              0            1           0                0             0   \n",
       "889              0            0           0                0             0   \n",
       "890              0            0           0                0             0   \n",
       "\n",
       "     Embarked_C  Embarked_Q  Embarked_S  13-27  27-40  40-53  53-67  67-80  \n",
       "0             0           0           1      1      0      0      0      0  \n",
       "1             1           0           0      0      1      0      0      0  \n",
       "2             0           0           1      1      0      0      0      0  \n",
       "3             0           0           1      0      1      0      0      0  \n",
       "4             0           0           1      0      1      0      0      0  \n",
       "..          ...         ...         ...    ...    ...    ...    ...    ...  \n",
       "886           0           0           1      0      1      0      0      0  \n",
       "887           0           0           1      1      0      0      0      0  \n",
       "888           0           0           1      1      0      0      0      0  \n",
       "889           1           0           0      1      0      0      0      0  \n",
       "890           0           1           0      0      1      0      0      0  \n",
       "\n",
       "[868 rows x 20 columns]"
      ]
     },
     "execution_count": 38,
     "metadata": {},
     "output_type": "execute_result"
    }
   ],
   "source": [
    "train_data"
   ]
  },
  {
   "cell_type": "markdown",
   "id": "5d0c209a",
   "metadata": {
    "papermill": {
     "duration": 0.026011,
     "end_time": "2022-07-25T17:24:42.716436",
     "exception": false,
     "start_time": "2022-07-25T17:24:42.690425",
     "status": "completed"
    },
    "tags": []
   },
   "source": [
    "# Model Creation\n",
    "First we are going to use XGBoost Classifier to predict if the passengers survived or not. \n",
    "After obtaining a result with a basic model, we will search for the best sutable hyperparameters and seak for a better model."
   ]
  },
  {
   "cell_type": "code",
   "execution_count": 39,
   "id": "357c2945",
   "metadata": {
    "execution": {
     "iopub.execute_input": "2022-07-25T17:24:42.769529Z",
     "iopub.status.busy": "2022-07-25T17:24:42.768887Z",
     "iopub.status.idle": "2022-07-25T17:24:43.099254Z",
     "shell.execute_reply": "2022-07-25T17:24:43.097535Z"
    },
    "papermill": {
     "duration": 0.359939,
     "end_time": "2022-07-25T17:24:43.102044",
     "exception": false,
     "start_time": "2022-07-25T17:24:42.742105",
     "status": "completed"
    },
    "tags": []
   },
   "outputs": [
    {
     "name": "stdout",
     "output_type": "stream",
     "text": [
      "Predictions accuracy score: 0.8218390804597702\n"
     ]
    }
   ],
   "source": [
    "#Model without parameters\n",
    "no_params_model = xgb.XGBClassifier()\n",
    "#Fitting the data to the model\n",
    "no_params_model.fit(X_train, y_train)\n",
    "#Predicting with the trained model\n",
    "preds = no_params_model.predict(X_test)\n",
    "#Printing the acuracy of the model\n",
    "print(f'Predictions accuracy score: {accuracy_score(y_test,preds)}')"
   ]
  },
  {
   "cell_type": "markdown",
   "id": "04048a52",
   "metadata": {
    "papermill": {
     "duration": 0.02556,
     "end_time": "2022-07-25T17:24:43.155738",
     "exception": false,
     "start_time": "2022-07-25T17:24:43.130178",
     "status": "completed"
    },
    "tags": []
   },
   "source": [
    "# Hyperparameter search (Randomized Search)"
   ]
  },
  {
   "cell_type": "code",
   "execution_count": 40,
   "id": "a0ddd539",
   "metadata": {
    "execution": {
     "iopub.execute_input": "2022-07-25T17:24:43.209752Z",
     "iopub.status.busy": "2022-07-25T17:24:43.209314Z",
     "iopub.status.idle": "2022-07-25T17:24:43.217218Z",
     "shell.execute_reply": "2022-07-25T17:24:43.215905Z"
    },
    "papermill": {
     "duration": 0.037599,
     "end_time": "2022-07-25T17:24:43.219622",
     "exception": false,
     "start_time": "2022-07-25T17:24:43.182023",
     "status": "completed"
    },
    "tags": []
   },
   "outputs": [
    {
     "data": {
      "text/plain": [
       "\"\\nparams_XGB = {\\n        'min_child_weight': [1, 5, 10],\\n        'gamma': [0, 0.01, 0.5, 1, 1.5, 2],\\n        'subsample': [0.6, 0.8, 1.0],\\n        'learning_rate': [0.01, 0.02, 0.05, 0.1, 0.3],\\n        'max_depth': [3, 4, 5, 6, 7],\\n        'n_estimators': [100, 200, 400, 600, 800, 1000],\\n        }\\n\\nparams_model_xgb = xgb.XGBClassifier()\\n\\n#Randomized Search\\nRS_xgb = RandomizedSearchCV(params_model_xgb, param_distributions=params_XGB)\\nRS_xgb.fit(X_train, y_train)\\n\\nprint(f'Best params for XGBoost Classifier using Random Search: {RS_xgb.best_params_}')\\n\""
      ]
     },
     "execution_count": 40,
     "metadata": {},
     "output_type": "execute_result"
    }
   ],
   "source": [
    "#Parameters\n",
    "'''\n",
    "params_XGB = {\n",
    "        'min_child_weight': [1, 5, 10],\n",
    "        'gamma': [0, 0.01, 0.5, 1, 1.5, 2],\n",
    "        'subsample': [0.6, 0.8, 1.0],\n",
    "        'learning_rate': [0.01, 0.02, 0.05, 0.1, 0.3],\n",
    "        'max_depth': [3, 4, 5, 6, 7],\n",
    "        'n_estimators': [100, 200, 400, 600, 800, 1000],\n",
    "        }\n",
    "\n",
    "params_model_xgb = xgb.XGBClassifier()\n",
    "\n",
    "#Randomized Search\n",
    "RS_xgb = RandomizedSearchCV(params_model_xgb, param_distributions=params_XGB)\n",
    "RS_xgb.fit(X_train, y_train)\n",
    "\n",
    "print(f'Best params for XGBoost Classifier using Random Search: {RS_xgb.best_params_}')\n",
    "'''"
   ]
  },
  {
   "cell_type": "code",
   "execution_count": 41,
   "id": "5f986047",
   "metadata": {
    "execution": {
     "iopub.execute_input": "2022-07-25T17:24:43.272555Z",
     "iopub.status.busy": "2022-07-25T17:24:43.272130Z",
     "iopub.status.idle": "2022-07-25T17:24:44.264482Z",
     "shell.execute_reply": "2022-07-25T17:24:44.263555Z"
    },
    "papermill": {
     "duration": 1.024301,
     "end_time": "2022-07-25T17:24:44.269477",
     "exception": false,
     "start_time": "2022-07-25T17:24:43.245176",
     "status": "completed"
    },
    "tags": []
   },
   "outputs": [
    {
     "name": "stdout",
     "output_type": "stream",
     "text": [
      "Predictions Accuracy Score: 0.8448275862068966\n",
      "Predictions F1 score: 0.8366197183098592\n",
      "Predictions Recall Score: 0.805970\n"
     ]
    }
   ],
   "source": [
    "#Hyperparameters\n",
    "best_params = {'subsample': 1.0, 'n_estimators': 400, 'min_child_weight': 1, 'max_depth': 3, 'learning_rate': 0.02, 'gamma': 0}\n",
    "#Model with hyperparameters\n",
    "model = xgb.XGBClassifier(**best_params, random_state = 22)\n",
    "#Fitting the data to the model\n",
    "model.fit(X_train, y_train)\n",
    "#Predicting with the trained model\n",
    "preds = model.predict(X_test)\n",
    "#Printing the acuracy of the model\n",
    "print(f'Predictions Accuracy Score: {accuracy_score(y_test,preds)}')\n",
    "#Printing the F1 score of the model\n",
    "f1 = f1_score(y_test, preds, average='macro')\n",
    "print(f'Predictions F1 score: {f1}')\n",
    "#Printing the Recall score of the model\n",
    "recall = recall_score(y_test, preds)\n",
    "print('Predictions Recall Score: %f' % recall)"
   ]
  },
  {
   "cell_type": "markdown",
   "id": "65c545bf",
   "metadata": {
    "papermill": {
     "duration": 0.025769,
     "end_time": "2022-07-25T17:24:44.323865",
     "exception": false,
     "start_time": "2022-07-25T17:24:44.298096",
     "status": "completed"
    },
    "tags": []
   },
   "source": [
    "# Feature Importance"
   ]
  },
  {
   "cell_type": "code",
   "execution_count": 42,
   "id": "01d52366",
   "metadata": {
    "execution": {
     "iopub.execute_input": "2022-07-25T17:24:44.378799Z",
     "iopub.status.busy": "2022-07-25T17:24:44.378425Z",
     "iopub.status.idle": "2022-07-25T17:24:44.689954Z",
     "shell.execute_reply": "2022-07-25T17:24:44.688706Z"
    },
    "papermill": {
     "duration": 0.341169,
     "end_time": "2022-07-25T17:24:44.692647",
     "exception": false,
     "start_time": "2022-07-25T17:24:44.351478",
     "status": "completed"
    },
    "tags": []
   },
   "outputs": [
    {
     "data": {
      "image/png": "[encoded data removed]",
      "text/plain": [
       "<Figure size 432x288 with 1 Axes>"
      ]
     },
     "metadata": {
      "needs_background": "light"
     },
     "output_type": "display_data"
    }
   ],
   "source": [
    "FeatImp_xgb = pd.DataFrame(data = {'Cols': X_train.columns.tolist(),'FeatImp':model.feature_importances_})\n",
    "FeatImp_xgb.sort_values(by='FeatImp', inplace=True, ascending=False)\n",
    "FeatImp_xgb.reset_index(inplace = True, drop = True)\n",
    "sns.barplot(x='FeatImp', y='Cols', data=FeatImp_xgb.head(20))\n",
    "plt.title('Feature Importance XGB')\n",
    "plt.show()"
   ]
  },
  {
   "cell_type": "markdown",
   "id": "28a0824c",
   "metadata": {
    "papermill": {
     "duration": 0.026339,
     "end_time": "2022-07-25T17:24:44.745862",
     "exception": false,
     "start_time": "2022-07-25T17:24:44.719523",
     "status": "completed"
    },
    "tags": []
   },
   "source": [
    "# Test: Prediction\n",
    "In this part of the code we are going to apply all the changes and tranformation made in the training set to the test set."
   ]
  },
  {
   "cell_type": "code",
   "execution_count": 43,
   "id": "22bba779",
   "metadata": {
    "execution": {
     "iopub.execute_input": "2022-07-25T17:24:44.800649Z",
     "iopub.status.busy": "2022-07-25T17:24:44.800133Z",
     "iopub.status.idle": "2022-07-25T17:24:44.815362Z",
     "shell.execute_reply": "2022-07-25T17:24:44.813696Z"
    },
    "papermill": {
     "duration": 0.04514,
     "end_time": "2022-07-25T17:24:44.817996",
     "exception": false,
     "start_time": "2022-07-25T17:24:44.772856",
     "status": "completed"
    },
    "tags": []
   },
   "outputs": [
    {
     "name": "stdout",
     "output_type": "stream",
     "text": [
      "<class 'pandas.core.frame.DataFrame'>\n",
      "RangeIndex: 418 entries, 0 to 417\n",
      "Data columns (total 11 columns):\n",
      " #   Column       Non-Null Count  Dtype  \n",
      "---  ------       --------------  -----  \n",
      " 0   PassengerId  418 non-null    int64  \n",
      " 1   Pclass       418 non-null    int64  \n",
      " 2   Name         418 non-null    object \n",
      " 3   Sex          418 non-null    object \n",
      " 4   Age          332 non-null    float64\n",
      " 5   SibSp        418 non-null    int64  \n",
      " 6   Parch        418 non-null    int64  \n",
      " 7   Ticket       418 non-null    object \n",
      " 8   Fare         417 non-null    float64\n",
      " 9   Cabin        91 non-null     object \n",
      " 10  Embarked     418 non-null    object \n",
      "dtypes: float64(2), int64(4), object(5)\n",
      "memory usage: 36.0+ KB\n"
     ]
    }
   ],
   "source": [
    "test_data.info()"
   ]
  },
  {
   "cell_type": "code",
   "execution_count": 44,
   "id": "1de22ea4",
   "metadata": {
    "execution": {
     "iopub.execute_input": "2022-07-25T17:24:44.873438Z",
     "iopub.status.busy": "2022-07-25T17:24:44.872677Z",
     "iopub.status.idle": "2022-07-25T17:24:44.891220Z",
     "shell.execute_reply": "2022-07-25T17:24:44.889648Z"
    },
    "papermill": {
     "duration": 0.049868,
     "end_time": "2022-07-25T17:24:44.894864",
     "exception": false,
     "start_time": "2022-07-25T17:24:44.844996",
     "status": "completed"
    },
    "tags": []
   },
   "outputs": [
    {
     "name": "stdout",
     "output_type": "stream",
     "text": [
      "Mr          240\n",
      "Miss         79\n",
      "Mrs          72\n",
      "Master       21\n",
      "Officers      5\n",
      "Royal         1\n",
      "Name: Status, dtype: int64\n"
     ]
    }
   ],
   "source": [
    "'''\n",
    "Extracting Status\n",
    "'''\n",
    "\n",
    "test_data['Status'] = test_data['Name'].str.extract(' ([A-Za-z]+)\\.', expand=False)\n",
    "\n",
    "test_data['Status'] = test_data['Status'].replace(['Lady', 'Countess', 'Don', 'Sir', 'Jonkheer', 'Dona'], 'Royal')\n",
    "\n",
    "test_data['Status'] = test_data['Status'].replace(['Capt', 'Col','Major', 'Rev', 'Dr'], 'Officers')\n",
    "\n",
    "test_data['Status'] = test_data['Status'].replace('Mlle', 'Miss')\n",
    "test_data['Status'] = test_data['Status'].replace('Ms', 'Miss')\n",
    "test_data['Status'] = test_data['Status'].replace('Mme', 'Mrs')\n",
    "\n",
    "print(test_data['Status'].value_counts())"
   ]
  },
  {
   "cell_type": "code",
   "execution_count": 45,
   "id": "be4da772",
   "metadata": {
    "execution": {
     "iopub.execute_input": "2022-07-25T17:24:44.950122Z",
     "iopub.status.busy": "2022-07-25T17:24:44.949760Z",
     "iopub.status.idle": "2022-07-25T17:24:44.961069Z",
     "shell.execute_reply": "2022-07-25T17:24:44.959698Z"
    },
    "papermill": {
     "duration": 0.042472,
     "end_time": "2022-07-25T17:24:44.964318",
     "exception": false,
     "start_time": "2022-07-25T17:24:44.921846",
     "status": "completed"
    },
    "tags": []
   },
   "outputs": [
    {
     "name": "stdout",
     "output_type": "stream",
     "text": [
      "PassengerId: 0\n",
      "Pclass: 0\n",
      "Name: 0\n",
      "Sex: 0\n",
      "Age: 86\n",
      "SibSp: 0\n",
      "Parch: 0\n",
      "Ticket: 0\n",
      "Fare: 1\n",
      "Cabin: 327\n",
      "Embarked: 0\n",
      "Status: 0\n",
      "True\n"
     ]
    }
   ],
   "source": [
    "columns = test_data.columns\n",
    "for column in columns:\n",
    "    has_nan = test_data[column].isnull().sum(axis = 0)\n",
    "    print(f'{column}: {has_nan}')\n",
    "    \n",
    "print(test_data.isnull().values.any())"
   ]
  },
  {
   "cell_type": "code",
   "execution_count": 46,
   "id": "2a2f382a",
   "metadata": {
    "execution": {
     "iopub.execute_input": "2022-07-25T17:24:45.021463Z",
     "iopub.status.busy": "2022-07-25T17:24:45.020827Z",
     "iopub.status.idle": "2022-07-25T17:24:45.037073Z",
     "shell.execute_reply": "2022-07-25T17:24:45.035960Z"
    },
    "papermill": {
     "duration": 0.04835,
     "end_time": "2022-07-25T17:24:45.039590",
     "exception": false,
     "start_time": "2022-07-25T17:24:44.991240",
     "status": "completed"
    },
    "tags": []
   },
   "outputs": [],
   "source": [
    "'''\n",
    "Nan values\n",
    "'''\n",
    "test_data['Age'] = np.where((test_data['Status'] == 'Master') & (test_data['Age'].isnull()), test_data['Age'].fillna(4.5), test_data['Age'])\n",
    "\n",
    "test_data['Age'] = np.where((test_data['Status'] == 'Miss') & (test_data['Age'].isnull()), test_data['Age'].fillna(21.8), test_data['Age'])\n",
    "\n",
    "test_data['Age'] = np.where((test_data['Status'] == 'Mr') & (test_data['Age'].isnull()), test_data['Age'].fillna(32.3), test_data['Age'])\n",
    "\n",
    "test_data['Age'] = np.where((test_data['Status'] == 'Mrs') & (test_data['Age'].isnull()), test_data['Age'].fillna(35.8), test_data['Age'])\n",
    "\n",
    "test_data['Age'] = np.where((test_data['Status'] == 'Officers') & (test_data['Age'].isnull()), test_data['Age'].fillna(47.5), test_data['Age'])\n",
    "\n",
    "test_data['Age'] = np.where((test_data['Status'] == 'Royal') & (test_data['Age'].isnull()), test_data['Age'].fillna(41), test_data['Age'])\n"
   ]
  },
  {
   "cell_type": "code",
   "execution_count": 47,
   "id": "08b2a6b0",
   "metadata": {
    "execution": {
     "iopub.execute_input": "2022-07-25T17:24:45.095945Z",
     "iopub.status.busy": "2022-07-25T17:24:45.095261Z",
     "iopub.status.idle": "2022-07-25T17:24:45.107003Z",
     "shell.execute_reply": "2022-07-25T17:24:45.105573Z"
    },
    "papermill": {
     "duration": 0.042497,
     "end_time": "2022-07-25T17:24:45.109363",
     "exception": false,
     "start_time": "2022-07-25T17:24:45.066866",
     "status": "completed"
    },
    "tags": []
   },
   "outputs": [
    {
     "data": {
      "text/plain": [
       "Pclass  Sex   \n",
       "1       female    41.112000\n",
       "        male      39.510526\n",
       "2       female    24.757333\n",
       "        male      31.026984\n",
       "3       female    24.045417\n",
       "        male      26.426096\n",
       "Name: Age, dtype: float64"
      ]
     },
     "execution_count": 47,
     "metadata": {},
     "output_type": "execute_result"
    }
   ],
   "source": [
    "test_data.groupby(['Pclass','Sex']).Age.mean()"
   ]
  },
  {
   "cell_type": "code",
   "execution_count": 48,
   "id": "b10ade5a",
   "metadata": {
    "execution": {
     "iopub.execute_input": "2022-07-25T17:24:45.164685Z",
     "iopub.status.busy": "2022-07-25T17:24:45.163893Z",
     "iopub.status.idle": "2022-07-25T17:24:45.171022Z",
     "shell.execute_reply": "2022-07-25T17:24:45.170156Z"
    },
    "papermill": {
     "duration": 0.037237,
     "end_time": "2022-07-25T17:24:45.173319",
     "exception": false,
     "start_time": "2022-07-25T17:24:45.136082",
     "status": "completed"
    },
    "tags": []
   },
   "outputs": [],
   "source": [
    "test_data.loc[test_data['Fare'].isnull()]\n",
    "\n",
    "test_data['Fare'] = test_data['Fare'].fillna(26)"
   ]
  },
  {
   "cell_type": "code",
   "execution_count": 49,
   "id": "73dcc8c1",
   "metadata": {
    "execution": {
     "iopub.execute_input": "2022-07-25T17:24:45.227591Z",
     "iopub.status.busy": "2022-07-25T17:24:45.226979Z",
     "iopub.status.idle": "2022-07-25T17:24:45.234987Z",
     "shell.execute_reply": "2022-07-25T17:24:45.233925Z"
    },
    "papermill": {
     "duration": 0.038113,
     "end_time": "2022-07-25T17:24:45.237474",
     "exception": false,
     "start_time": "2022-07-25T17:24:45.199361",
     "status": "completed"
    },
    "tags": []
   },
   "outputs": [],
   "source": [
    "test_data['Has_cabin'] = np.where(test_data['Cabin'].isnull(), 0, 1)\n",
    "test_data.drop('Cabin', axis = 1, inplace = True)"
   ]
  },
  {
   "cell_type": "code",
   "execution_count": 50,
   "id": "21754b1e",
   "metadata": {
    "execution": {
     "iopub.execute_input": "2022-07-25T17:24:45.291726Z",
     "iopub.status.busy": "2022-07-25T17:24:45.291322Z",
     "iopub.status.idle": "2022-07-25T17:24:45.300438Z",
     "shell.execute_reply": "2022-07-25T17:24:45.299557Z"
    },
    "papermill": {
     "duration": 0.03885,
     "end_time": "2022-07-25T17:24:45.302831",
     "exception": false,
     "start_time": "2022-07-25T17:24:45.263981",
     "status": "completed"
    },
    "tags": []
   },
   "outputs": [],
   "source": [
    "test_data['Is_child'] = np.where(test_data['Age'] <= 12, 1, 0)\n",
    "\n",
    "test_data['Sex'] = np.where(test_data['Sex'] == 'male', 1,0)\n",
    "\n",
    "test_data.drop('Name', axis = 1, inplace = True)"
   ]
  },
  {
   "cell_type": "code",
   "execution_count": 51,
   "id": "ab554a04",
   "metadata": {
    "execution": {
     "iopub.execute_input": "2022-07-25T17:24:45.356371Z",
     "iopub.status.busy": "2022-07-25T17:24:45.355765Z",
     "iopub.status.idle": "2022-07-25T17:24:45.362318Z",
     "shell.execute_reply": "2022-07-25T17:24:45.361093Z"
    },
    "papermill": {
     "duration": 0.035997,
     "end_time": "2022-07-25T17:24:45.364651",
     "exception": false,
     "start_time": "2022-07-25T17:24:45.328654",
     "status": "completed"
    },
    "tags": []
   },
   "outputs": [],
   "source": [
    "test_data.drop('Ticket', axis = 1, inplace = True)"
   ]
  },
  {
   "cell_type": "code",
   "execution_count": 52,
   "id": "19a44531",
   "metadata": {
    "execution": {
     "iopub.execute_input": "2022-07-25T17:24:45.419061Z",
     "iopub.status.busy": "2022-07-25T17:24:45.418404Z",
     "iopub.status.idle": "2022-07-25T17:24:45.427264Z",
     "shell.execute_reply": "2022-07-25T17:24:45.426504Z"
    },
    "papermill": {
     "duration": 0.038581,
     "end_time": "2022-07-25T17:24:45.429737",
     "exception": false,
     "start_time": "2022-07-25T17:24:45.391156",
     "status": "completed"
    },
    "tags": []
   },
   "outputs": [],
   "source": [
    "test_data['Fam_size'] = test_data['SibSp'] + test_data['Parch']\n",
    "\n",
    "test_data['Solo'] = np.where(test_data['Fam_size'] == 0, 1, 0)\n",
    "\n",
    "test_data.drop(['SibSp', 'Parch'], axis = 1, inplace = True)"
   ]
  },
  {
   "cell_type": "code",
   "execution_count": 53,
   "id": "e3eba9fa",
   "metadata": {
    "execution": {
     "iopub.execute_input": "2022-07-25T17:24:45.486288Z",
     "iopub.status.busy": "2022-07-25T17:24:45.485875Z",
     "iopub.status.idle": "2022-07-25T17:24:45.498749Z",
     "shell.execute_reply": "2022-07-25T17:24:45.495524Z"
    },
    "papermill": {
     "duration": 0.045242,
     "end_time": "2022-07-25T17:24:45.502499",
     "exception": false,
     "start_time": "2022-07-25T17:24:45.457257",
     "status": "completed"
    },
    "tags": []
   },
   "outputs": [],
   "source": [
    "test_data['Fare'] = test_data['Fare'] / (test_data['Fam_size'] + 1)"
   ]
  },
  {
   "cell_type": "code",
   "execution_count": 54,
   "id": "d7453a3a",
   "metadata": {
    "execution": {
     "iopub.execute_input": "2022-07-25T17:24:45.573131Z",
     "iopub.status.busy": "2022-07-25T17:24:45.572275Z",
     "iopub.status.idle": "2022-07-25T17:24:45.589800Z",
     "shell.execute_reply": "2022-07-25T17:24:45.588865Z"
    },
    "papermill": {
     "duration": 0.058919,
     "end_time": "2022-07-25T17:24:45.593177",
     "exception": false,
     "start_time": "2022-07-25T17:24:45.534258",
     "status": "completed"
    },
    "tags": []
   },
   "outputs": [],
   "source": [
    "test_data['0-13'] = np.where(test_data['Age'] < 13, 1, 0)\n",
    "test_data['13-27'] = np.where((test_data['Age'] <= 13) & (test_data['Age'] > 27), 1, 0)\n",
    "test_data['27-40'] = np.where((test_data['Age'] <= 27) & (test_data['Age'] > 40), 1, 0)\n",
    "test_data['40-53'] = np.where((test_data['Age'] >= 40) & (test_data['Age'] < 53), 1, 0)\n",
    "test_data['53-67'] = np.where((test_data['Age'] >= 53) & (test_data['Age'] < 67), 1, 0)\n",
    "test_data['67-80'] = np.where((test_data['Age'] >= 67) & (test_data['Age'] <= 80), 1, 0)\n",
    "\n",
    "test_data.drop('Age', axis = 1, inplace = True)\n"
   ]
  },
  {
   "cell_type": "code",
   "execution_count": 55,
   "id": "3ece608e",
   "metadata": {
    "execution": {
     "iopub.execute_input": "2022-07-25T17:24:45.653434Z",
     "iopub.status.busy": "2022-07-25T17:24:45.653008Z",
     "iopub.status.idle": "2022-07-25T17:24:45.666144Z",
     "shell.execute_reply": "2022-07-25T17:24:45.665196Z"
    },
    "papermill": {
     "duration": 0.045444,
     "end_time": "2022-07-25T17:24:45.668691",
     "exception": false,
     "start_time": "2022-07-25T17:24:45.623247",
     "status": "completed"
    },
    "tags": []
   },
   "outputs": [],
   "source": [
    "test_data = createDummies(test_data, 'Status')\n",
    "\n",
    "test_data = createDummies(test_data, 'Embarked')\n"
   ]
  },
  {
   "cell_type": "code",
   "execution_count": 56,
   "id": "3f522a52",
   "metadata": {
    "execution": {
     "iopub.execute_input": "2022-07-25T17:24:45.725378Z",
     "iopub.status.busy": "2022-07-25T17:24:45.724953Z",
     "iopub.status.idle": "2022-07-25T17:24:45.750883Z",
     "shell.execute_reply": "2022-07-25T17:24:45.749682Z"
    },
    "papermill": {
     "duration": 0.05829,
     "end_time": "2022-07-25T17:24:45.754105",
     "exception": false,
     "start_time": "2022-07-25T17:24:45.695815",
     "status": "completed"
    },
    "tags": []
   },
   "outputs": [
    {
     "data": {
      "text/html": [
       "<div>\n",
       "<style scoped>\n",
       "    .dataframe tbody tr th:only-of-type {\n",
       "        vertical-align: middle;\n",
       "    }\n",
       "\n",
       "    .dataframe tbody tr th {\n",
       "        vertical-align: top;\n",
       "    }\n",
       "\n",
       "    .dataframe thead th {\n",
       "        text-align: right;\n",
       "    }\n",
       "</style>\n",
       "<table border=\"1\" class=\"dataframe\">\n",
       "  <thead>\n",
       "    <tr style=\"text-align: right;\">\n",
       "      <th></th>\n",
       "      <th>PassengerId</th>\n",
       "      <th>Pclass</th>\n",
       "      <th>Sex</th>\n",
       "      <th>Fare</th>\n",
       "      <th>Has_cabin</th>\n",
       "      <th>Is_child</th>\n",
       "      <th>Fam_size</th>\n",
       "      <th>Solo</th>\n",
       "      <th>0-13</th>\n",
       "      <th>13-27</th>\n",
       "      <th>...</th>\n",
       "      <th>67-80</th>\n",
       "      <th>Status_Master</th>\n",
       "      <th>Status_Miss</th>\n",
       "      <th>Status_Mr</th>\n",
       "      <th>Status_Mrs</th>\n",
       "      <th>Status_Officers</th>\n",
       "      <th>Status_Royal</th>\n",
       "      <th>Embarked_C</th>\n",
       "      <th>Embarked_Q</th>\n",
       "      <th>Embarked_S</th>\n",
       "    </tr>\n",
       "  </thead>\n",
       "  <tbody>\n",
       "    <tr>\n",
       "      <th>0</th>\n",
       "      <td>892</td>\n",
       "      <td>3</td>\n",
       "      <td>1</td>\n",
       "      <td>7.829200</td>\n",
       "      <td>0</td>\n",
       "      <td>0</td>\n",
       "      <td>0</td>\n",
       "      <td>1</td>\n",
       "      <td>0</td>\n",
       "      <td>0</td>\n",
       "      <td>...</td>\n",
       "      <td>0</td>\n",
       "      <td>0</td>\n",
       "      <td>0</td>\n",
       "      <td>1</td>\n",
       "      <td>0</td>\n",
       "      <td>0</td>\n",
       "      <td>0</td>\n",
       "      <td>0</td>\n",
       "      <td>1</td>\n",
       "      <td>0</td>\n",
       "    </tr>\n",
       "    <tr>\n",
       "      <th>1</th>\n",
       "      <td>893</td>\n",
       "      <td>3</td>\n",
       "      <td>0</td>\n",
       "      <td>3.500000</td>\n",
       "      <td>0</td>\n",
       "      <td>0</td>\n",
       "      <td>1</td>\n",
       "      <td>0</td>\n",
       "      <td>0</td>\n",
       "      <td>0</td>\n",
       "      <td>...</td>\n",
       "      <td>0</td>\n",
       "      <td>0</td>\n",
       "      <td>0</td>\n",
       "      <td>0</td>\n",
       "      <td>1</td>\n",
       "      <td>0</td>\n",
       "      <td>0</td>\n",
       "      <td>0</td>\n",
       "      <td>0</td>\n",
       "      <td>1</td>\n",
       "    </tr>\n",
       "    <tr>\n",
       "      <th>2</th>\n",
       "      <td>894</td>\n",
       "      <td>2</td>\n",
       "      <td>1</td>\n",
       "      <td>9.687500</td>\n",
       "      <td>0</td>\n",
       "      <td>0</td>\n",
       "      <td>0</td>\n",
       "      <td>1</td>\n",
       "      <td>0</td>\n",
       "      <td>0</td>\n",
       "      <td>...</td>\n",
       "      <td>0</td>\n",
       "      <td>0</td>\n",
       "      <td>0</td>\n",
       "      <td>1</td>\n",
       "      <td>0</td>\n",
       "      <td>0</td>\n",
       "      <td>0</td>\n",
       "      <td>0</td>\n",
       "      <td>1</td>\n",
       "      <td>0</td>\n",
       "    </tr>\n",
       "    <tr>\n",
       "      <th>3</th>\n",
       "      <td>895</td>\n",
       "      <td>3</td>\n",
       "      <td>1</td>\n",
       "      <td>8.662500</td>\n",
       "      <td>0</td>\n",
       "      <td>0</td>\n",
       "      <td>0</td>\n",
       "      <td>1</td>\n",
       "      <td>0</td>\n",
       "      <td>0</td>\n",
       "      <td>...</td>\n",
       "      <td>0</td>\n",
       "      <td>0</td>\n",
       "      <td>0</td>\n",
       "      <td>1</td>\n",
       "      <td>0</td>\n",
       "      <td>0</td>\n",
       "      <td>0</td>\n",
       "      <td>0</td>\n",
       "      <td>0</td>\n",
       "      <td>1</td>\n",
       "    </tr>\n",
       "    <tr>\n",
       "      <th>4</th>\n",
       "      <td>896</td>\n",
       "      <td>3</td>\n",
       "      <td>0</td>\n",
       "      <td>4.095833</td>\n",
       "      <td>0</td>\n",
       "      <td>0</td>\n",
       "      <td>2</td>\n",
       "      <td>0</td>\n",
       "      <td>0</td>\n",
       "      <td>0</td>\n",
       "      <td>...</td>\n",
       "      <td>0</td>\n",
       "      <td>0</td>\n",
       "      <td>0</td>\n",
       "      <td>0</td>\n",
       "      <td>1</td>\n",
       "      <td>0</td>\n",
       "      <td>0</td>\n",
       "      <td>0</td>\n",
       "      <td>0</td>\n",
       "      <td>1</td>\n",
       "    </tr>\n",
       "    <tr>\n",
       "      <th>...</th>\n",
       "      <td>...</td>\n",
       "      <td>...</td>\n",
       "      <td>...</td>\n",
       "      <td>...</td>\n",
       "      <td>...</td>\n",
       "      <td>...</td>\n",
       "      <td>...</td>\n",
       "      <td>...</td>\n",
       "      <td>...</td>\n",
       "      <td>...</td>\n",
       "      <td>...</td>\n",
       "      <td>...</td>\n",
       "      <td>...</td>\n",
       "      <td>...</td>\n",
       "      <td>...</td>\n",
       "      <td>...</td>\n",
       "      <td>...</td>\n",
       "      <td>...</td>\n",
       "      <td>...</td>\n",
       "      <td>...</td>\n",
       "      <td>...</td>\n",
       "    </tr>\n",
       "    <tr>\n",
       "      <th>413</th>\n",
       "      <td>1305</td>\n",
       "      <td>3</td>\n",
       "      <td>1</td>\n",
       "      <td>8.050000</td>\n",
       "      <td>0</td>\n",
       "      <td>0</td>\n",
       "      <td>0</td>\n",
       "      <td>1</td>\n",
       "      <td>0</td>\n",
       "      <td>0</td>\n",
       "      <td>...</td>\n",
       "      <td>0</td>\n",
       "      <td>0</td>\n",
       "      <td>0</td>\n",
       "      <td>1</td>\n",
       "      <td>0</td>\n",
       "      <td>0</td>\n",
       "      <td>0</td>\n",
       "      <td>0</td>\n",
       "      <td>0</td>\n",
       "      <td>1</td>\n",
       "    </tr>\n",
       "    <tr>\n",
       "      <th>414</th>\n",
       "      <td>1306</td>\n",
       "      <td>1</td>\n",
       "      <td>0</td>\n",
       "      <td>108.900000</td>\n",
       "      <td>1</td>\n",
       "      <td>0</td>\n",
       "      <td>0</td>\n",
       "      <td>1</td>\n",
       "      <td>0</td>\n",
       "      <td>0</td>\n",
       "      <td>...</td>\n",
       "      <td>0</td>\n",
       "      <td>0</td>\n",
       "      <td>0</td>\n",
       "      <td>0</td>\n",
       "      <td>0</td>\n",
       "      <td>0</td>\n",
       "      <td>1</td>\n",
       "      <td>1</td>\n",
       "      <td>0</td>\n",
       "      <td>0</td>\n",
       "    </tr>\n",
       "    <tr>\n",
       "      <th>415</th>\n",
       "      <td>1307</td>\n",
       "      <td>3</td>\n",
       "      <td>1</td>\n",
       "      <td>7.250000</td>\n",
       "      <td>0</td>\n",
       "      <td>0</td>\n",
       "      <td>0</td>\n",
       "      <td>1</td>\n",
       "      <td>0</td>\n",
       "      <td>0</td>\n",
       "      <td>...</td>\n",
       "      <td>0</td>\n",
       "      <td>0</td>\n",
       "      <td>0</td>\n",
       "      <td>1</td>\n",
       "      <td>0</td>\n",
       "      <td>0</td>\n",
       "      <td>0</td>\n",
       "      <td>0</td>\n",
       "      <td>0</td>\n",
       "      <td>1</td>\n",
       "    </tr>\n",
       "    <tr>\n",
       "      <th>416</th>\n",
       "      <td>1308</td>\n",
       "      <td>3</td>\n",
       "      <td>1</td>\n",
       "      <td>8.050000</td>\n",
       "      <td>0</td>\n",
       "      <td>0</td>\n",
       "      <td>0</td>\n",
       "      <td>1</td>\n",
       "      <td>0</td>\n",
       "      <td>0</td>\n",
       "      <td>...</td>\n",
       "      <td>0</td>\n",
       "      <td>0</td>\n",
       "      <td>0</td>\n",
       "      <td>1</td>\n",
       "      <td>0</td>\n",
       "      <td>0</td>\n",
       "      <td>0</td>\n",
       "      <td>0</td>\n",
       "      <td>0</td>\n",
       "      <td>1</td>\n",
       "    </tr>\n",
       "    <tr>\n",
       "      <th>417</th>\n",
       "      <td>1309</td>\n",
       "      <td>3</td>\n",
       "      <td>1</td>\n",
       "      <td>7.452767</td>\n",
       "      <td>0</td>\n",
       "      <td>1</td>\n",
       "      <td>2</td>\n",
       "      <td>0</td>\n",
       "      <td>1</td>\n",
       "      <td>0</td>\n",
       "      <td>...</td>\n",
       "      <td>0</td>\n",
       "      <td>1</td>\n",
       "      <td>0</td>\n",
       "      <td>0</td>\n",
       "      <td>0</td>\n",
       "      <td>0</td>\n",
       "      <td>0</td>\n",
       "      <td>1</td>\n",
       "      <td>0</td>\n",
       "      <td>0</td>\n",
       "    </tr>\n",
       "  </tbody>\n",
       "</table>\n",
       "<p>418 rows × 23 columns</p>\n",
       "</div>"
      ],
      "text/plain": [
       "     PassengerId  Pclass  Sex        Fare  Has_cabin  Is_child  Fam_size  \\\n",
       "0            892       3    1    7.829200          0         0         0   \n",
       "1            893       3    0    3.500000          0         0         1   \n",
       "2            894       2    1    9.687500          0         0         0   \n",
       "3            895       3    1    8.662500          0         0         0   \n",
       "4            896       3    0    4.095833          0         0         2   \n",
       "..           ...     ...  ...         ...        ...       ...       ...   \n",
       "413         1305       3    1    8.050000          0         0         0   \n",
       "414         1306       1    0  108.900000          1         0         0   \n",
       "415         1307       3    1    7.250000          0         0         0   \n",
       "416         1308       3    1    8.050000          0         0         0   \n",
       "417         1309       3    1    7.452767          0         1         2   \n",
       "\n",
       "     Solo  0-13  13-27  ...  67-80  Status_Master  Status_Miss  Status_Mr  \\\n",
       "0       1     0      0  ...      0              0            0          1   \n",
       "1       0     0      0  ...      0              0            0          0   \n",
       "2       1     0      0  ...      0              0            0          1   \n",
       "3       1     0      0  ...      0              0            0          1   \n",
       "4       0     0      0  ...      0              0            0          0   \n",
       "..    ...   ...    ...  ...    ...            ...          ...        ...   \n",
       "413     1     0      0  ...      0              0            0          1   \n",
       "414     1     0      0  ...      0              0            0          0   \n",
       "415     1     0      0  ...      0              0            0          1   \n",
       "416     1     0      0  ...      0              0            0          1   \n",
       "417     0     1      0  ...      0              1            0          0   \n",
       "\n",
       "     Status_Mrs  Status_Officers  Status_Royal  Embarked_C  Embarked_Q  \\\n",
       "0             0                0             0           0           1   \n",
       "1             1                0             0           0           0   \n",
       "2             0                0             0           0           1   \n",
       "3             0                0             0           0           0   \n",
       "4             1                0             0           0           0   \n",
       "..          ...              ...           ...         ...         ...   \n",
       "413           0                0             0           0           0   \n",
       "414           0                0             1           1           0   \n",
       "415           0                0             0           0           0   \n",
       "416           0                0             0           0           0   \n",
       "417           0                0             0           1           0   \n",
       "\n",
       "     Embarked_S  \n",
       "0             0  \n",
       "1             1  \n",
       "2             0  \n",
       "3             1  \n",
       "4             1  \n",
       "..          ...  \n",
       "413           1  \n",
       "414           0  \n",
       "415           1  \n",
       "416           1  \n",
       "417           0  \n",
       "\n",
       "[418 rows x 23 columns]"
      ]
     },
     "execution_count": 56,
     "metadata": {},
     "output_type": "execute_result"
    }
   ],
   "source": [
    "test_data"
   ]
  },
  {
   "cell_type": "code",
   "execution_count": 57,
   "id": "c4472c02",
   "metadata": {
    "execution": {
     "iopub.execute_input": "2022-07-25T17:24:45.810567Z",
     "iopub.status.busy": "2022-07-25T17:24:45.810161Z",
     "iopub.status.idle": "2022-07-25T17:24:45.816450Z",
     "shell.execute_reply": "2022-07-25T17:24:45.815580Z"
    },
    "papermill": {
     "duration": 0.03666,
     "end_time": "2022-07-25T17:24:45.818671",
     "exception": false,
     "start_time": "2022-07-25T17:24:45.782011",
     "status": "completed"
    },
    "tags": []
   },
   "outputs": [],
   "source": [
    "test_data.drop(['0-13', 'Status_Mr'], axis = 1, inplace = True)"
   ]
  },
  {
   "cell_type": "code",
   "execution_count": 58,
   "id": "1db2a7ae",
   "metadata": {
    "execution": {
     "iopub.execute_input": "2022-07-25T17:24:45.873414Z",
     "iopub.status.busy": "2022-07-25T17:24:45.872724Z",
     "iopub.status.idle": "2022-07-25T17:24:45.877752Z",
     "shell.execute_reply": "2022-07-25T17:24:45.876765Z"
    },
    "papermill": {
     "duration": 0.034935,
     "end_time": "2022-07-25T17:24:45.879921",
     "exception": false,
     "start_time": "2022-07-25T17:24:45.844986",
     "status": "completed"
    },
    "tags": []
   },
   "outputs": [],
   "source": [
    "pass_id_test = test_data.pop('PassengerId')"
   ]
  },
  {
   "cell_type": "code",
   "execution_count": 59,
   "id": "2efc217b",
   "metadata": {
    "execution": {
     "iopub.execute_input": "2022-07-25T17:24:45.935819Z",
     "iopub.status.busy": "2022-07-25T17:24:45.935364Z",
     "iopub.status.idle": "2022-07-25T17:24:45.943867Z",
     "shell.execute_reply": "2022-07-25T17:24:45.942741Z"
    },
    "papermill": {
     "duration": 0.039943,
     "end_time": "2022-07-25T17:24:45.946222",
     "exception": false,
     "start_time": "2022-07-25T17:24:45.906279",
     "status": "completed"
    },
    "tags": []
   },
   "outputs": [],
   "source": [
    "x_scaled_test = min_max_scaler.transform(test_data[['Fare']])\n",
    "\n",
    "test_data[['Fare']] = x_scaled_test\n"
   ]
  },
  {
   "cell_type": "code",
   "execution_count": 60,
   "id": "8514fb11",
   "metadata": {
    "execution": {
     "iopub.execute_input": "2022-07-25T17:24:46.002201Z",
     "iopub.status.busy": "2022-07-25T17:24:46.001443Z",
     "iopub.status.idle": "2022-07-25T17:24:46.022751Z",
     "shell.execute_reply": "2022-07-25T17:24:46.021752Z"
    },
    "papermill": {
     "duration": 0.051864,
     "end_time": "2022-07-25T17:24:46.025077",
     "exception": false,
     "start_time": "2022-07-25T17:24:45.973213",
     "status": "completed"
    },
    "tags": []
   },
   "outputs": [
    {
     "data": {
      "text/html": [
       "<div>\n",
       "<style scoped>\n",
       "    .dataframe tbody tr th:only-of-type {\n",
       "        vertical-align: middle;\n",
       "    }\n",
       "\n",
       "    .dataframe tbody tr th {\n",
       "        vertical-align: top;\n",
       "    }\n",
       "\n",
       "    .dataframe thead th {\n",
       "        text-align: right;\n",
       "    }\n",
       "</style>\n",
       "<table border=\"1\" class=\"dataframe\">\n",
       "  <thead>\n",
       "    <tr style=\"text-align: right;\">\n",
       "      <th></th>\n",
       "      <th>Pclass</th>\n",
       "      <th>Sex</th>\n",
       "      <th>Fare</th>\n",
       "      <th>Has_cabin</th>\n",
       "      <th>Is_child</th>\n",
       "      <th>Fam_size</th>\n",
       "      <th>Solo</th>\n",
       "      <th>13-27</th>\n",
       "      <th>27-40</th>\n",
       "      <th>40-53</th>\n",
       "      <th>53-67</th>\n",
       "      <th>67-80</th>\n",
       "      <th>Status_Master</th>\n",
       "      <th>Status_Miss</th>\n",
       "      <th>Status_Mrs</th>\n",
       "      <th>Status_Officers</th>\n",
       "      <th>Status_Royal</th>\n",
       "      <th>Embarked_C</th>\n",
       "      <th>Embarked_Q</th>\n",
       "      <th>Embarked_S</th>\n",
       "    </tr>\n",
       "  </thead>\n",
       "  <tbody>\n",
       "    <tr>\n",
       "      <th>0</th>\n",
       "      <td>3</td>\n",
       "      <td>1</td>\n",
       "      <td>0.090511</td>\n",
       "      <td>0</td>\n",
       "      <td>0</td>\n",
       "      <td>0</td>\n",
       "      <td>1</td>\n",
       "      <td>0</td>\n",
       "      <td>0</td>\n",
       "      <td>0</td>\n",
       "      <td>0</td>\n",
       "      <td>0</td>\n",
       "      <td>0</td>\n",
       "      <td>0</td>\n",
       "      <td>0</td>\n",
       "      <td>0</td>\n",
       "      <td>0</td>\n",
       "      <td>0</td>\n",
       "      <td>1</td>\n",
       "      <td>0</td>\n",
       "    </tr>\n",
       "    <tr>\n",
       "      <th>1</th>\n",
       "      <td>3</td>\n",
       "      <td>0</td>\n",
       "      <td>0.040462</td>\n",
       "      <td>0</td>\n",
       "      <td>0</td>\n",
       "      <td>1</td>\n",
       "      <td>0</td>\n",
       "      <td>0</td>\n",
       "      <td>0</td>\n",
       "      <td>1</td>\n",
       "      <td>0</td>\n",
       "      <td>0</td>\n",
       "      <td>0</td>\n",
       "      <td>0</td>\n",
       "      <td>1</td>\n",
       "      <td>0</td>\n",
       "      <td>0</td>\n",
       "      <td>0</td>\n",
       "      <td>0</td>\n",
       "      <td>1</td>\n",
       "    </tr>\n",
       "    <tr>\n",
       "      <th>2</th>\n",
       "      <td>2</td>\n",
       "      <td>1</td>\n",
       "      <td>0.111994</td>\n",
       "      <td>0</td>\n",
       "      <td>0</td>\n",
       "      <td>0</td>\n",
       "      <td>1</td>\n",
       "      <td>0</td>\n",
       "      <td>0</td>\n",
       "      <td>0</td>\n",
       "      <td>1</td>\n",
       "      <td>0</td>\n",
       "      <td>0</td>\n",
       "      <td>0</td>\n",
       "      <td>0</td>\n",
       "      <td>0</td>\n",
       "      <td>0</td>\n",
       "      <td>0</td>\n",
       "      <td>1</td>\n",
       "      <td>0</td>\n",
       "    </tr>\n",
       "    <tr>\n",
       "      <th>3</th>\n",
       "      <td>3</td>\n",
       "      <td>1</td>\n",
       "      <td>0.100145</td>\n",
       "      <td>0</td>\n",
       "      <td>0</td>\n",
       "      <td>0</td>\n",
       "      <td>1</td>\n",
       "      <td>0</td>\n",
       "      <td>0</td>\n",
       "      <td>0</td>\n",
       "      <td>0</td>\n",
       "      <td>0</td>\n",
       "      <td>0</td>\n",
       "      <td>0</td>\n",
       "      <td>0</td>\n",
       "      <td>0</td>\n",
       "      <td>0</td>\n",
       "      <td>0</td>\n",
       "      <td>0</td>\n",
       "      <td>1</td>\n",
       "    </tr>\n",
       "    <tr>\n",
       "      <th>4</th>\n",
       "      <td>3</td>\n",
       "      <td>0</td>\n",
       "      <td>0.047351</td>\n",
       "      <td>0</td>\n",
       "      <td>0</td>\n",
       "      <td>2</td>\n",
       "      <td>0</td>\n",
       "      <td>0</td>\n",
       "      <td>0</td>\n",
       "      <td>0</td>\n",
       "      <td>0</td>\n",
       "      <td>0</td>\n",
       "      <td>0</td>\n",
       "      <td>0</td>\n",
       "      <td>1</td>\n",
       "      <td>0</td>\n",
       "      <td>0</td>\n",
       "      <td>0</td>\n",
       "      <td>0</td>\n",
       "      <td>1</td>\n",
       "    </tr>\n",
       "    <tr>\n",
       "      <th>...</th>\n",
       "      <td>...</td>\n",
       "      <td>...</td>\n",
       "      <td>...</td>\n",
       "      <td>...</td>\n",
       "      <td>...</td>\n",
       "      <td>...</td>\n",
       "      <td>...</td>\n",
       "      <td>...</td>\n",
       "      <td>...</td>\n",
       "      <td>...</td>\n",
       "      <td>...</td>\n",
       "      <td>...</td>\n",
       "      <td>...</td>\n",
       "      <td>...</td>\n",
       "      <td>...</td>\n",
       "      <td>...</td>\n",
       "      <td>...</td>\n",
       "      <td>...</td>\n",
       "      <td>...</td>\n",
       "      <td>...</td>\n",
       "    </tr>\n",
       "    <tr>\n",
       "      <th>413</th>\n",
       "      <td>3</td>\n",
       "      <td>1</td>\n",
       "      <td>0.093064</td>\n",
       "      <td>0</td>\n",
       "      <td>0</td>\n",
       "      <td>0</td>\n",
       "      <td>1</td>\n",
       "      <td>0</td>\n",
       "      <td>0</td>\n",
       "      <td>0</td>\n",
       "      <td>0</td>\n",
       "      <td>0</td>\n",
       "      <td>0</td>\n",
       "      <td>0</td>\n",
       "      <td>0</td>\n",
       "      <td>0</td>\n",
       "      <td>0</td>\n",
       "      <td>0</td>\n",
       "      <td>0</td>\n",
       "      <td>1</td>\n",
       "    </tr>\n",
       "    <tr>\n",
       "      <th>414</th>\n",
       "      <td>1</td>\n",
       "      <td>0</td>\n",
       "      <td>1.258960</td>\n",
       "      <td>1</td>\n",
       "      <td>0</td>\n",
       "      <td>0</td>\n",
       "      <td>1</td>\n",
       "      <td>0</td>\n",
       "      <td>0</td>\n",
       "      <td>0</td>\n",
       "      <td>0</td>\n",
       "      <td>0</td>\n",
       "      <td>0</td>\n",
       "      <td>0</td>\n",
       "      <td>0</td>\n",
       "      <td>0</td>\n",
       "      <td>1</td>\n",
       "      <td>1</td>\n",
       "      <td>0</td>\n",
       "      <td>0</td>\n",
       "    </tr>\n",
       "    <tr>\n",
       "      <th>415</th>\n",
       "      <td>3</td>\n",
       "      <td>1</td>\n",
       "      <td>0.083815</td>\n",
       "      <td>0</td>\n",
       "      <td>0</td>\n",
       "      <td>0</td>\n",
       "      <td>1</td>\n",
       "      <td>0</td>\n",
       "      <td>0</td>\n",
       "      <td>0</td>\n",
       "      <td>0</td>\n",
       "      <td>0</td>\n",
       "      <td>0</td>\n",
       "      <td>0</td>\n",
       "      <td>0</td>\n",
       "      <td>0</td>\n",
       "      <td>0</td>\n",
       "      <td>0</td>\n",
       "      <td>0</td>\n",
       "      <td>1</td>\n",
       "    </tr>\n",
       "    <tr>\n",
       "      <th>416</th>\n",
       "      <td>3</td>\n",
       "      <td>1</td>\n",
       "      <td>0.093064</td>\n",
       "      <td>0</td>\n",
       "      <td>0</td>\n",
       "      <td>0</td>\n",
       "      <td>1</td>\n",
       "      <td>0</td>\n",
       "      <td>0</td>\n",
       "      <td>0</td>\n",
       "      <td>0</td>\n",
       "      <td>0</td>\n",
       "      <td>0</td>\n",
       "      <td>0</td>\n",
       "      <td>0</td>\n",
       "      <td>0</td>\n",
       "      <td>0</td>\n",
       "      <td>0</td>\n",
       "      <td>0</td>\n",
       "      <td>1</td>\n",
       "    </tr>\n",
       "    <tr>\n",
       "      <th>417</th>\n",
       "      <td>3</td>\n",
       "      <td>1</td>\n",
       "      <td>0.086159</td>\n",
       "      <td>0</td>\n",
       "      <td>1</td>\n",
       "      <td>2</td>\n",
       "      <td>0</td>\n",
       "      <td>0</td>\n",
       "      <td>0</td>\n",
       "      <td>0</td>\n",
       "      <td>0</td>\n",
       "      <td>0</td>\n",
       "      <td>1</td>\n",
       "      <td>0</td>\n",
       "      <td>0</td>\n",
       "      <td>0</td>\n",
       "      <td>0</td>\n",
       "      <td>1</td>\n",
       "      <td>0</td>\n",
       "      <td>0</td>\n",
       "    </tr>\n",
       "  </tbody>\n",
       "</table>\n",
       "<p>418 rows × 20 columns</p>\n",
       "</div>"
      ],
      "text/plain": [
       "     Pclass  Sex      Fare  Has_cabin  Is_child  Fam_size  Solo  13-27  27-40  \\\n",
       "0         3    1  0.090511          0         0         0     1      0      0   \n",
       "1         3    0  0.040462          0         0         1     0      0      0   \n",
       "2         2    1  0.111994          0         0         0     1      0      0   \n",
       "3         3    1  0.100145          0         0         0     1      0      0   \n",
       "4         3    0  0.047351          0         0         2     0      0      0   \n",
       "..      ...  ...       ...        ...       ...       ...   ...    ...    ...   \n",
       "413       3    1  0.093064          0         0         0     1      0      0   \n",
       "414       1    0  1.258960          1         0         0     1      0      0   \n",
       "415       3    1  0.083815          0         0         0     1      0      0   \n",
       "416       3    1  0.093064          0         0         0     1      0      0   \n",
       "417       3    1  0.086159          0         1         2     0      0      0   \n",
       "\n",
       "     40-53  53-67  67-80  Status_Master  Status_Miss  Status_Mrs  \\\n",
       "0        0      0      0              0            0           0   \n",
       "1        1      0      0              0            0           1   \n",
       "2        0      1      0              0            0           0   \n",
       "3        0      0      0              0            0           0   \n",
       "4        0      0      0              0            0           1   \n",
       "..     ...    ...    ...            ...          ...         ...   \n",
       "413      0      0      0              0            0           0   \n",
       "414      0      0      0              0            0           0   \n",
       "415      0      0      0              0            0           0   \n",
       "416      0      0      0              0            0           0   \n",
       "417      0      0      0              1            0           0   \n",
       "\n",
       "     Status_Officers  Status_Royal  Embarked_C  Embarked_Q  Embarked_S  \n",
       "0                  0             0           0           1           0  \n",
       "1                  0             0           0           0           1  \n",
       "2                  0             0           0           1           0  \n",
       "3                  0             0           0           0           1  \n",
       "4                  0             0           0           0           1  \n",
       "..               ...           ...         ...         ...         ...  \n",
       "413                0             0           0           0           1  \n",
       "414                0             1           1           0           0  \n",
       "415                0             0           0           0           1  \n",
       "416                0             0           0           0           1  \n",
       "417                0             0           1           0           0  \n",
       "\n",
       "[418 rows x 20 columns]"
      ]
     },
     "execution_count": 60,
     "metadata": {},
     "output_type": "execute_result"
    }
   ],
   "source": [
    "test_data"
   ]
  },
  {
   "cell_type": "markdown",
   "id": "6bfe0f2c",
   "metadata": {
    "papermill": {
     "duration": 0.026872,
     "end_time": "2022-07-25T17:24:46.079153",
     "exception": false,
     "start_time": "2022-07-25T17:24:46.052281",
     "status": "completed"
    },
    "tags": []
   },
   "source": [
    "# Submission"
   ]
  },
  {
   "cell_type": "code",
   "execution_count": 61,
   "id": "bfc9cd67",
   "metadata": {
    "execution": {
     "iopub.execute_input": "2022-07-25T17:24:46.137151Z",
     "iopub.status.busy": "2022-07-25T17:24:46.136433Z",
     "iopub.status.idle": "2022-07-25T17:24:46.149413Z",
     "shell.execute_reply": "2022-07-25T17:24:46.148364Z"
    },
    "papermill": {
     "duration": 0.046286,
     "end_time": "2022-07-25T17:24:46.152592",
     "exception": false,
     "start_time": "2022-07-25T17:24:46.106306",
     "status": "completed"
    },
    "tags": []
   },
   "outputs": [],
   "source": [
    "test_submission = model.predict(test_data)\n",
    "\n",
    "submission = pd.DataFrame({'PassengerId':pass_id_test, 'Survived':test_submission})"
   ]
  },
  {
   "cell_type": "code",
   "execution_count": 62,
   "id": "e98b53c6",
   "metadata": {
    "execution": {
     "iopub.execute_input": "2022-07-25T17:24:46.211763Z",
     "iopub.status.busy": "2022-07-25T17:24:46.211200Z",
     "iopub.status.idle": "2022-07-25T17:24:46.219829Z",
     "shell.execute_reply": "2022-07-25T17:24:46.218883Z"
    },
    "papermill": {
     "duration": 0.040409,
     "end_time": "2022-07-25T17:24:46.222355",
     "exception": false,
     "start_time": "2022-07-25T17:24:46.181946",
     "status": "completed"
    },
    "tags": []
   },
   "outputs": [],
   "source": [
    "submission.to_csv(\"submission.csv\", index = False)"
   ]
  },
  {
   "cell_type": "code",
   "execution_count": 63,
   "id": "0d19166c",
   "metadata": {
    "execution": {
     "iopub.execute_input": "2022-07-25T17:24:46.280824Z",
     "iopub.status.busy": "2022-07-25T17:24:46.279561Z",
     "iopub.status.idle": "2022-07-25T17:24:46.290767Z",
     "shell.execute_reply": "2022-07-25T17:24:46.289905Z"
    },
    "papermill": {
     "duration": 0.042257,
     "end_time": "2022-07-25T17:24:46.293015",
     "exception": false,
     "start_time": "2022-07-25T17:24:46.250758",
     "status": "completed"
    },
    "tags": []
   },
   "outputs": [
    {
     "data": {
      "text/html": [
       "<div>\n",
       "<style scoped>\n",
       "    .dataframe tbody tr th:only-of-type {\n",
       "        vertical-align: middle;\n",
       "    }\n",
       "\n",
       "    .dataframe tbody tr th {\n",
       "        vertical-align: top;\n",
       "    }\n",
       "\n",
       "    .dataframe thead th {\n",
       "        text-align: right;\n",
       "    }\n",
       "</style>\n",
       "<table border=\"1\" class=\"dataframe\">\n",
       "  <thead>\n",
       "    <tr style=\"text-align: right;\">\n",
       "      <th></th>\n",
       "      <th>PassengerId</th>\n",
       "      <th>Survived</th>\n",
       "    </tr>\n",
       "  </thead>\n",
       "  <tbody>\n",
       "    <tr>\n",
       "      <th>0</th>\n",
       "      <td>892</td>\n",
       "      <td>0</td>\n",
       "    </tr>\n",
       "    <tr>\n",
       "      <th>1</th>\n",
       "      <td>893</td>\n",
       "      <td>0</td>\n",
       "    </tr>\n",
       "    <tr>\n",
       "      <th>2</th>\n",
       "      <td>894</td>\n",
       "      <td>0</td>\n",
       "    </tr>\n",
       "    <tr>\n",
       "      <th>3</th>\n",
       "      <td>895</td>\n",
       "      <td>0</td>\n",
       "    </tr>\n",
       "    <tr>\n",
       "      <th>4</th>\n",
       "      <td>896</td>\n",
       "      <td>1</td>\n",
       "    </tr>\n",
       "    <tr>\n",
       "      <th>...</th>\n",
       "      <td>...</td>\n",
       "      <td>...</td>\n",
       "    </tr>\n",
       "    <tr>\n",
       "      <th>413</th>\n",
       "      <td>1305</td>\n",
       "      <td>0</td>\n",
       "    </tr>\n",
       "    <tr>\n",
       "      <th>414</th>\n",
       "      <td>1306</td>\n",
       "      <td>1</td>\n",
       "    </tr>\n",
       "    <tr>\n",
       "      <th>415</th>\n",
       "      <td>1307</td>\n",
       "      <td>0</td>\n",
       "    </tr>\n",
       "    <tr>\n",
       "      <th>416</th>\n",
       "      <td>1308</td>\n",
       "      <td>0</td>\n",
       "    </tr>\n",
       "    <tr>\n",
       "      <th>417</th>\n",
       "      <td>1309</td>\n",
       "      <td>0</td>\n",
       "    </tr>\n",
       "  </tbody>\n",
       "</table>\n",
       "<p>418 rows × 2 columns</p>\n",
       "</div>"
      ],
      "text/plain": [
       "     PassengerId  Survived\n",
       "0            892         0\n",
       "1            893         0\n",
       "2            894         0\n",
       "3            895         0\n",
       "4            896         1\n",
       "..           ...       ...\n",
       "413         1305         0\n",
       "414         1306         1\n",
       "415         1307         0\n",
       "416         1308         0\n",
       "417         1309         0\n",
       "\n",
       "[418 rows x 2 columns]"
      ]
     },
     "execution_count": 63,
     "metadata": {},
     "output_type": "execute_result"
    }
   ],
   "source": [
    "submission\n"
   ]
  }
 ],
 "metadata": {
  "kernelspec": {
   "display_name": "Python 3",
   "language": "python",
   "name": "python3"
  },
  "language_info": {
   "codemirror_mode": {
    "name": "ipython",
    "version": 3
   },
   "file_extension": ".py",
   "mimetype": "text/x-python",
   "name": "python",
   "nbconvert_exporter": "python",
   "pygments_lexer": "ipython3",
   "version": "3.7.12"
  },
  "papermill": {
   "default_parameters": {},
   "duration": 21.111,
   "end_time": "2022-07-25T17:24:47.143427",
   "environment_variables": {},
   "exception": null,
   "input_path": "__notebook__.ipynb",
   "output_path": "__notebook__.ipynb",
   "parameters": {},
   "start_time": "2022-07-25T17:24:26.032427",
   "version": "2.3.4"
  }
 },
 "nbformat": 4,
 "nbformat_minor": 5
}
